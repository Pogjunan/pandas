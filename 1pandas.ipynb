{
 "cells": [
  {
   "cell_type": "markdown",
   "id": "1b17632c-d6f3-4e29-a409-6e65db248b22",
   "metadata": {},
   "source": [
    "# `2. Pandas` (판다스)"
   ]
  },
  {
   "cell_type": "markdown",
   "id": "78e6826b-6ec6-4cf1-bfd1-af4187f925ff",
   "metadata": {},
   "source": [
    "## `1. import`\n"
   ]
  },
  {
   "cell_type": "code",
   "execution_count": 5,
   "id": "1e3debc5-7be2-4988-af4c-80e1f4895764",
   "metadata": {},
   "outputs": [],
   "source": [
    "import numpy as np\n",
    "import pandas as pd"
   ]
  },
  {
   "cell_type": "markdown",
   "id": "d5923a07-c1b1-48c7-a6ac-8043541fead4",
   "metadata": {},
   "source": [
    "Pandas 의 사용이유 : np 로 만든 array 를 보기편하게하고 더 쉽게 자료를 찾고 정리하고 시각화에 까지 도움을 주기 위해서"
   ]
  },
  {
   "cell_type": "markdown",
   "id": "e62f49ce-4575-41b3-9ed9-345b7f5324de",
   "metadata": {},
   "source": [
    "예시"
   ]
  },
  {
   "cell_type": "code",
   "execution_count": 6,
   "id": "faae2dd6-7f06-4f8e-8816-08ae0912e1c0",
   "metadata": {},
   "outputs": [],
   "source": [
    "np.random.seed(50)\n",
    "출석 = np.random.choice(np.arange(10,21)*5,20)\n",
    "중간고사 = np.random.choice(np.arange(0,21)*5,20)\n",
    "기말고사 = np.random.choice(np.arange(0,21)*5,20)\n",
    "key = ['2024-10'+str(s) for s in np.random.choice(np.arange(300,501),20,replace=False)]"
   ]
  },
  {
   "cell_type": "code",
   "execution_count": 9,
   "id": "427aa6d1-f34a-4b4b-bf45-5d81aca925e1",
   "metadata": {},
   "outputs": [],
   "source": [
    "dct = {'출석':{key[i]:출석[i] for i in range(20)}, \n",
    "       '중간고사':{key[i]:중간고사[i] for i in range(20)}, \n",
    "       '기말고사':{key[i]:기말고사[i] for i in range(20)}}\n",
    "#dct"
   ]
  },
  {
   "cell_type": "code",
   "execution_count": 10,
   "id": "e848a1e5-2d78-4214-80ae-b7569beccf8a",
   "metadata": {},
   "outputs": [
    {
     "data": {
      "text/plain": [
       "{'출석': {'2024-10474': 50,\n",
       "  '2024-10324': 50,\n",
       "  '2024-10381': 55,\n",
       "  '2024-10334': 70,\n",
       "  '2024-10484': 80,\n",
       "  '2024-10360': 75,\n",
       "  '2024-10320': 80,\n",
       "  '2024-10430': 80,\n",
       "  '2024-10308': 75,\n",
       "  '2024-10448': 60,\n",
       "  '2024-10434': 100,\n",
       "  '2024-10310': 85,\n",
       "  '2024-10366': 70,\n",
       "  '2024-10333': 65,\n",
       "  '2024-10329': 100,\n",
       "  '2024-10374': 100,\n",
       "  '2024-10442': 80,\n",
       "  '2024-10460': 70,\n",
       "  '2024-10385': 55,\n",
       "  '2024-10309': 75},\n",
       " '중간고사': {'2024-10474': 50,\n",
       "  '2024-10324': 45,\n",
       "  '2024-10381': 0,\n",
       "  '2024-10334': 30,\n",
       "  '2024-10484': 95,\n",
       "  '2024-10360': 10,\n",
       "  '2024-10320': 75,\n",
       "  '2024-10430': 45,\n",
       "  '2024-10308': 15,\n",
       "  '2024-10448': 95,\n",
       "  '2024-10434': 95,\n",
       "  '2024-10310': 10,\n",
       "  '2024-10366': 60,\n",
       "  '2024-10333': 0,\n",
       "  '2024-10329': 15,\n",
       "  '2024-10374': 10,\n",
       "  '2024-10442': 50,\n",
       "  '2024-10460': 80,\n",
       "  '2024-10385': 70,\n",
       "  '2024-10309': 95},\n",
       " '기말고사': {'2024-10474': 0,\n",
       "  '2024-10324': 0,\n",
       "  '2024-10381': 55,\n",
       "  '2024-10334': 35,\n",
       "  '2024-10484': 95,\n",
       "  '2024-10360': 70,\n",
       "  '2024-10320': 65,\n",
       "  '2024-10430': 35,\n",
       "  '2024-10308': 20,\n",
       "  '2024-10448': 20,\n",
       "  '2024-10434': 0,\n",
       "  '2024-10310': 55,\n",
       "  '2024-10366': 0,\n",
       "  '2024-10333': 65,\n",
       "  '2024-10329': 95,\n",
       "  '2024-10374': 65,\n",
       "  '2024-10442': 95,\n",
       "  '2024-10460': 5,\n",
       "  '2024-10385': 45,\n",
       "  '2024-10309': 100}}"
      ]
     },
     "execution_count": 10,
     "metadata": {},
     "output_type": "execute_result"
    }
   ],
   "source": [
    "dct"
   ]
  },
  {
   "cell_type": "code",
   "execution_count": 11,
   "id": "bca2da7f-5bd0-42cd-90e4-fb9e98edefef",
   "metadata": {},
   "outputs": [
    {
     "data": {
      "text/plain": [
       "70"
      ]
     },
     "execution_count": 11,
     "metadata": {},
     "output_type": "execute_result"
    }
   ],
   "source": [
    "dct['출석']['2024-10460']"
   ]
  },
  {
   "cell_type": "code",
   "execution_count": 12,
   "id": "b7169a2c-1fec-439d-b9f6-0b06f4d7e40f",
   "metadata": {},
   "outputs": [
    {
     "data": {
      "text/plain": [
       "80"
      ]
     },
     "execution_count": 12,
     "metadata": {},
     "output_type": "execute_result"
    }
   ],
   "source": [
    "dct['중간고사']['2024-10460']"
   ]
  },
  {
   "cell_type": "markdown",
   "id": "34a818fa-47d3-4de3-b773-95a3a065ff06",
   "metadata": {},
   "source": [
    "# 판다스로 해결"
   ]
  },
  {
   "cell_type": "code",
   "execution_count": 14,
   "id": "014c18e9-d1cc-4bde-ba8c-0ae8471ccabd",
   "metadata": {},
   "outputs": [
    {
     "data": {
      "text/html": [
       "<div>\n",
       "<style scoped>\n",
       "    .dataframe tbody tr th:only-of-type {\n",
       "        vertical-align: middle;\n",
       "    }\n",
       "\n",
       "    .dataframe tbody tr th {\n",
       "        vertical-align: top;\n",
       "    }\n",
       "\n",
       "    .dataframe thead th {\n",
       "        text-align: right;\n",
       "    }\n",
       "</style>\n",
       "<table border=\"1\" class=\"dataframe\">\n",
       "  <thead>\n",
       "    <tr style=\"text-align: right;\">\n",
       "      <th></th>\n",
       "      <th>출석</th>\n",
       "      <th>중간고사</th>\n",
       "      <th>기말고사</th>\n",
       "    </tr>\n",
       "  </thead>\n",
       "  <tbody>\n",
       "    <tr>\n",
       "      <th>2024-10474</th>\n",
       "      <td>50</td>\n",
       "      <td>50</td>\n",
       "      <td>0</td>\n",
       "    </tr>\n",
       "    <tr>\n",
       "      <th>2024-10324</th>\n",
       "      <td>50</td>\n",
       "      <td>45</td>\n",
       "      <td>0</td>\n",
       "    </tr>\n",
       "    <tr>\n",
       "      <th>2024-10381</th>\n",
       "      <td>55</td>\n",
       "      <td>0</td>\n",
       "      <td>55</td>\n",
       "    </tr>\n",
       "    <tr>\n",
       "      <th>2024-10334</th>\n",
       "      <td>70</td>\n",
       "      <td>30</td>\n",
       "      <td>35</td>\n",
       "    </tr>\n",
       "    <tr>\n",
       "      <th>2024-10484</th>\n",
       "      <td>80</td>\n",
       "      <td>95</td>\n",
       "      <td>95</td>\n",
       "    </tr>\n",
       "  </tbody>\n",
       "</table>\n",
       "</div>"
      ],
      "text/plain": [
       "            출석  중간고사  기말고사\n",
       "2024-10474  50    50     0\n",
       "2024-10324  50    45     0\n",
       "2024-10381  55     0    55\n",
       "2024-10334  70    30    35\n",
       "2024-10484  80    95    95"
      ]
     },
     "execution_count": 14,
     "metadata": {},
     "output_type": "execute_result"
    }
   ],
   "source": [
    "df = pd.DataFrame(dct) # df = dataframe 의 약자\n",
    "df.head()"
   ]
  },
  {
   "cell_type": "code",
   "execution_count": 17,
   "id": "f3377399-0a9b-4293-9744-35d6703b7ccb",
   "metadata": {},
   "outputs": [
    {
     "data": {
      "text/plain": [
       "2024-10474    50\n",
       "2024-10324    45\n",
       "2024-10381     0\n",
       "2024-10334    30\n",
       "2024-10484    95\n",
       "Name: 중간고사, dtype: int64"
      ]
     },
     "execution_count": 17,
     "metadata": {},
     "output_type": "execute_result"
    }
   ],
   "source": [
    "df['중간고사'].head()"
   ]
  },
  {
   "cell_type": "code",
   "execution_count": 18,
   "id": "f00217fe-2bd0-4871-95f0-08f9df20761f",
   "metadata": {},
   "outputs": [
    {
     "data": {
      "text/html": [
       "<div>\n",
       "<style scoped>\n",
       "    .dataframe tbody tr th:only-of-type {\n",
       "        vertical-align: middle;\n",
       "    }\n",
       "\n",
       "    .dataframe tbody tr th {\n",
       "        vertical-align: top;\n",
       "    }\n",
       "\n",
       "    .dataframe thead th {\n",
       "        text-align: right;\n",
       "    }\n",
       "</style>\n",
       "<table border=\"1\" class=\"dataframe\">\n",
       "  <thead>\n",
       "    <tr style=\"text-align: right;\">\n",
       "      <th></th>\n",
       "      <th>중간고사</th>\n",
       "    </tr>\n",
       "  </thead>\n",
       "  <tbody>\n",
       "    <tr>\n",
       "      <th>2024-10474</th>\n",
       "      <td>50</td>\n",
       "    </tr>\n",
       "    <tr>\n",
       "      <th>2024-10324</th>\n",
       "      <td>45</td>\n",
       "    </tr>\n",
       "    <tr>\n",
       "      <th>2024-10381</th>\n",
       "      <td>0</td>\n",
       "    </tr>\n",
       "    <tr>\n",
       "      <th>2024-10334</th>\n",
       "      <td>30</td>\n",
       "    </tr>\n",
       "    <tr>\n",
       "      <th>2024-10484</th>\n",
       "      <td>95</td>\n",
       "    </tr>\n",
       "  </tbody>\n",
       "</table>\n",
       "</div>"
      ],
      "text/plain": [
       "            중간고사\n",
       "2024-10474    50\n",
       "2024-10324    45\n",
       "2024-10381     0\n",
       "2024-10334    30\n",
       "2024-10484    95"
      ]
     },
     "execution_count": 18,
     "metadata": {},
     "output_type": "execute_result"
    }
   ],
   "source": [
    "df[['중간고사']].head()"
   ]
  },
  {
   "cell_type": "markdown",
   "id": "98c607ed-fa6d-4080-ae33-67c000f66498",
   "metadata": {},
   "source": [
    "# `df.iloc` 과 `df.loc`"
   ]
  },
  {
   "cell_type": "code",
   "execution_count": 32,
   "id": "a91c6307-6413-4a68-be70-6e02ac5dc28e",
   "metadata": {},
   "outputs": [
    {
     "data": {
      "text/html": [
       "<div>\n",
       "<style scoped>\n",
       "    .dataframe tbody tr th:only-of-type {\n",
       "        vertical-align: middle;\n",
       "    }\n",
       "\n",
       "    .dataframe tbody tr th {\n",
       "        vertical-align: top;\n",
       "    }\n",
       "\n",
       "    .dataframe thead th {\n",
       "        text-align: right;\n",
       "    }\n",
       "</style>\n",
       "<table border=\"1\" class=\"dataframe\">\n",
       "  <thead>\n",
       "    <tr style=\"text-align: right;\">\n",
       "      <th></th>\n",
       "      <th>출석</th>\n",
       "      <th>중간고사</th>\n",
       "      <th>기말고사</th>\n",
       "    </tr>\n",
       "  </thead>\n",
       "  <tbody>\n",
       "    <tr>\n",
       "      <th>2024-10474</th>\n",
       "      <td>50</td>\n",
       "      <td>50</td>\n",
       "      <td>0</td>\n",
       "    </tr>\n",
       "    <tr>\n",
       "      <th>2024-10324</th>\n",
       "      <td>50</td>\n",
       "      <td>45</td>\n",
       "      <td>0</td>\n",
       "    </tr>\n",
       "    <tr>\n",
       "      <th>2024-10381</th>\n",
       "      <td>55</td>\n",
       "      <td>0</td>\n",
       "      <td>55</td>\n",
       "    </tr>\n",
       "    <tr>\n",
       "      <th>2024-10334</th>\n",
       "      <td>70</td>\n",
       "      <td>30</td>\n",
       "      <td>35</td>\n",
       "    </tr>\n",
       "    <tr>\n",
       "      <th>2024-10484</th>\n",
       "      <td>80</td>\n",
       "      <td>95</td>\n",
       "      <td>95</td>\n",
       "    </tr>\n",
       "    <tr>\n",
       "      <th>2024-10360</th>\n",
       "      <td>75</td>\n",
       "      <td>10</td>\n",
       "      <td>70</td>\n",
       "    </tr>\n",
       "  </tbody>\n",
       "</table>\n",
       "</div>"
      ],
      "text/plain": [
       "            출석  중간고사  기말고사\n",
       "2024-10474  50    50     0\n",
       "2024-10324  50    45     0\n",
       "2024-10381  55     0    55\n",
       "2024-10334  70    30    35\n",
       "2024-10484  80    95    95\n",
       "2024-10360  75    10    70"
      ]
     },
     "execution_count": 32,
     "metadata": {},
     "output_type": "execute_result"
    }
   ],
   "source": [
    "df.head(6)"
   ]
  },
  {
   "cell_type": "code",
   "execution_count": 30,
   "id": "5c3ead28-b405-44dc-bd32-f833b20e3d59",
   "metadata": {},
   "outputs": [
    {
     "data": {
      "text/plain": [
       "50"
      ]
     },
     "execution_count": 30,
     "metadata": {},
     "output_type": "execute_result"
    }
   ],
   "source": [
    "df.iloc[0,1]"
   ]
  },
  {
   "cell_type": "code",
   "execution_count": 33,
   "id": "5cdba146-a41d-4593-ad35-fdf0676688b5",
   "metadata": {},
   "outputs": [
    {
     "data": {
      "text/plain": [
       "2024-10474     0\n",
       "2024-10324     0\n",
       "2024-10381    55\n",
       "Name: 기말고사, dtype: int64"
      ]
     },
     "execution_count": 33,
     "metadata": {},
     "output_type": "execute_result"
    }
   ],
   "source": [
    "df.iloc[0:3,2]"
   ]
  },
  {
   "cell_type": "code",
   "execution_count": 36,
   "id": "ae6732da-ae66-4369-b933-9f6ad1248731",
   "metadata": {},
   "outputs": [
    {
     "data": {
      "text/plain": [
       "출석      50\n",
       "중간고사    50\n",
       "기말고사     0\n",
       "Name: 2024-10474, dtype: int64"
      ]
     },
     "execution_count": 36,
     "metadata": {},
     "output_type": "execute_result"
    }
   ],
   "source": [
    "df.loc['2024-10474']"
   ]
  },
  {
   "cell_type": "code",
   "execution_count": 40,
   "id": "2d52e1c8-e205-4ea5-929e-a6f772462cda",
   "metadata": {},
   "outputs": [
    {
     "data": {
      "text/plain": [
       "50"
      ]
     },
     "execution_count": 40,
     "metadata": {},
     "output_type": "execute_result"
    }
   ],
   "source": [
    "df.loc['2024-10474','중간고사']"
   ]
  },
  {
   "cell_type": "code",
   "execution_count": 46,
   "id": "272c362b-ad38-43d4-90e1-8bbb57b52c51",
   "metadata": {},
   "outputs": [
    {
     "data": {
      "text/html": [
       "<div>\n",
       "<style scoped>\n",
       "    .dataframe tbody tr th:only-of-type {\n",
       "        vertical-align: middle;\n",
       "    }\n",
       "\n",
       "    .dataframe tbody tr th {\n",
       "        vertical-align: top;\n",
       "    }\n",
       "\n",
       "    .dataframe thead th {\n",
       "        text-align: right;\n",
       "    }\n",
       "</style>\n",
       "<table border=\"1\" class=\"dataframe\">\n",
       "  <thead>\n",
       "    <tr style=\"text-align: right;\">\n",
       "      <th></th>\n",
       "      <th>출석</th>\n",
       "    </tr>\n",
       "  </thead>\n",
       "  <tbody>\n",
       "    <tr>\n",
       "      <th>2024-10474</th>\n",
       "      <td>50</td>\n",
       "    </tr>\n",
       "    <tr>\n",
       "      <th>2024-10324</th>\n",
       "      <td>50</td>\n",
       "    </tr>\n",
       "    <tr>\n",
       "      <th>2024-10381</th>\n",
       "      <td>55</td>\n",
       "    </tr>\n",
       "    <tr>\n",
       "      <th>2024-10334</th>\n",
       "      <td>70</td>\n",
       "    </tr>\n",
       "    <tr>\n",
       "      <th>2024-10484</th>\n",
       "      <td>80</td>\n",
       "    </tr>\n",
       "    <tr>\n",
       "      <th>2024-10360</th>\n",
       "      <td>75</td>\n",
       "    </tr>\n",
       "    <tr>\n",
       "      <th>2024-10320</th>\n",
       "      <td>80</td>\n",
       "    </tr>\n",
       "    <tr>\n",
       "      <th>2024-10430</th>\n",
       "      <td>80</td>\n",
       "    </tr>\n",
       "    <tr>\n",
       "      <th>2024-10308</th>\n",
       "      <td>75</td>\n",
       "    </tr>\n",
       "    <tr>\n",
       "      <th>2024-10448</th>\n",
       "      <td>60</td>\n",
       "    </tr>\n",
       "    <tr>\n",
       "      <th>2024-10434</th>\n",
       "      <td>100</td>\n",
       "    </tr>\n",
       "    <tr>\n",
       "      <th>2024-10310</th>\n",
       "      <td>85</td>\n",
       "    </tr>\n",
       "    <tr>\n",
       "      <th>2024-10366</th>\n",
       "      <td>70</td>\n",
       "    </tr>\n",
       "    <tr>\n",
       "      <th>2024-10333</th>\n",
       "      <td>65</td>\n",
       "    </tr>\n",
       "    <tr>\n",
       "      <th>2024-10329</th>\n",
       "      <td>100</td>\n",
       "    </tr>\n",
       "    <tr>\n",
       "      <th>2024-10374</th>\n",
       "      <td>100</td>\n",
       "    </tr>\n",
       "    <tr>\n",
       "      <th>2024-10442</th>\n",
       "      <td>80</td>\n",
       "    </tr>\n",
       "    <tr>\n",
       "      <th>2024-10460</th>\n",
       "      <td>70</td>\n",
       "    </tr>\n",
       "    <tr>\n",
       "      <th>2024-10385</th>\n",
       "      <td>55</td>\n",
       "    </tr>\n",
       "    <tr>\n",
       "      <th>2024-10309</th>\n",
       "      <td>75</td>\n",
       "    </tr>\n",
       "  </tbody>\n",
       "</table>\n",
       "</div>"
      ],
      "text/plain": [
       "             출석\n",
       "2024-10474   50\n",
       "2024-10324   50\n",
       "2024-10381   55\n",
       "2024-10334   70\n",
       "2024-10484   80\n",
       "2024-10360   75\n",
       "2024-10320   80\n",
       "2024-10430   80\n",
       "2024-10308   75\n",
       "2024-10448   60\n",
       "2024-10434  100\n",
       "2024-10310   85\n",
       "2024-10366   70\n",
       "2024-10333   65\n",
       "2024-10329  100\n",
       "2024-10374  100\n",
       "2024-10442   80\n",
       "2024-10460   70\n",
       "2024-10385   55\n",
       "2024-10309   75"
      ]
     },
     "execution_count": 46,
     "metadata": {},
     "output_type": "execute_result"
    }
   ],
   "source": [
    "df.loc[:,['출석']]"
   ]
  },
  {
   "cell_type": "code",
   "execution_count": 47,
   "id": "9b6e068c-8503-40c2-8c0f-e5e60a31b761",
   "metadata": {},
   "outputs": [
    {
     "data": {
      "text/html": [
       "<div>\n",
       "<style scoped>\n",
       "    .dataframe tbody tr th:only-of-type {\n",
       "        vertical-align: middle;\n",
       "    }\n",
       "\n",
       "    .dataframe tbody tr th {\n",
       "        vertical-align: top;\n",
       "    }\n",
       "\n",
       "    .dataframe thead th {\n",
       "        text-align: right;\n",
       "    }\n",
       "</style>\n",
       "<table border=\"1\" class=\"dataframe\">\n",
       "  <thead>\n",
       "    <tr style=\"text-align: right;\">\n",
       "      <th></th>\n",
       "      <th>출석</th>\n",
       "      <th>중간고사</th>\n",
       "    </tr>\n",
       "  </thead>\n",
       "  <tbody>\n",
       "    <tr>\n",
       "      <th>2024-10474</th>\n",
       "      <td>50</td>\n",
       "      <td>50</td>\n",
       "    </tr>\n",
       "    <tr>\n",
       "      <th>2024-10324</th>\n",
       "      <td>50</td>\n",
       "      <td>45</td>\n",
       "    </tr>\n",
       "    <tr>\n",
       "      <th>2024-10381</th>\n",
       "      <td>55</td>\n",
       "      <td>0</td>\n",
       "    </tr>\n",
       "    <tr>\n",
       "      <th>2024-10334</th>\n",
       "      <td>70</td>\n",
       "      <td>30</td>\n",
       "    </tr>\n",
       "    <tr>\n",
       "      <th>2024-10484</th>\n",
       "      <td>80</td>\n",
       "      <td>95</td>\n",
       "    </tr>\n",
       "    <tr>\n",
       "      <th>2024-10360</th>\n",
       "      <td>75</td>\n",
       "      <td>10</td>\n",
       "    </tr>\n",
       "    <tr>\n",
       "      <th>2024-10320</th>\n",
       "      <td>80</td>\n",
       "      <td>75</td>\n",
       "    </tr>\n",
       "    <tr>\n",
       "      <th>2024-10430</th>\n",
       "      <td>80</td>\n",
       "      <td>45</td>\n",
       "    </tr>\n",
       "    <tr>\n",
       "      <th>2024-10308</th>\n",
       "      <td>75</td>\n",
       "      <td>15</td>\n",
       "    </tr>\n",
       "    <tr>\n",
       "      <th>2024-10448</th>\n",
       "      <td>60</td>\n",
       "      <td>95</td>\n",
       "    </tr>\n",
       "    <tr>\n",
       "      <th>2024-10434</th>\n",
       "      <td>100</td>\n",
       "      <td>95</td>\n",
       "    </tr>\n",
       "    <tr>\n",
       "      <th>2024-10310</th>\n",
       "      <td>85</td>\n",
       "      <td>10</td>\n",
       "    </tr>\n",
       "    <tr>\n",
       "      <th>2024-10366</th>\n",
       "      <td>70</td>\n",
       "      <td>60</td>\n",
       "    </tr>\n",
       "    <tr>\n",
       "      <th>2024-10333</th>\n",
       "      <td>65</td>\n",
       "      <td>0</td>\n",
       "    </tr>\n",
       "    <tr>\n",
       "      <th>2024-10329</th>\n",
       "      <td>100</td>\n",
       "      <td>15</td>\n",
       "    </tr>\n",
       "    <tr>\n",
       "      <th>2024-10374</th>\n",
       "      <td>100</td>\n",
       "      <td>10</td>\n",
       "    </tr>\n",
       "    <tr>\n",
       "      <th>2024-10442</th>\n",
       "      <td>80</td>\n",
       "      <td>50</td>\n",
       "    </tr>\n",
       "    <tr>\n",
       "      <th>2024-10460</th>\n",
       "      <td>70</td>\n",
       "      <td>80</td>\n",
       "    </tr>\n",
       "    <tr>\n",
       "      <th>2024-10385</th>\n",
       "      <td>55</td>\n",
       "      <td>70</td>\n",
       "    </tr>\n",
       "    <tr>\n",
       "      <th>2024-10309</th>\n",
       "      <td>75</td>\n",
       "      <td>95</td>\n",
       "    </tr>\n",
       "  </tbody>\n",
       "</table>\n",
       "</div>"
      ],
      "text/plain": [
       "             출석  중간고사\n",
       "2024-10474   50    50\n",
       "2024-10324   50    45\n",
       "2024-10381   55     0\n",
       "2024-10334   70    30\n",
       "2024-10484   80    95\n",
       "2024-10360   75    10\n",
       "2024-10320   80    75\n",
       "2024-10430   80    45\n",
       "2024-10308   75    15\n",
       "2024-10448   60    95\n",
       "2024-10434  100    95\n",
       "2024-10310   85    10\n",
       "2024-10366   70    60\n",
       "2024-10333   65     0\n",
       "2024-10329  100    15\n",
       "2024-10374  100    10\n",
       "2024-10442   80    50\n",
       "2024-10460   70    80\n",
       "2024-10385   55    70\n",
       "2024-10309   75    95"
      ]
     },
     "execution_count": 47,
     "metadata": {},
     "output_type": "execute_result"
    }
   ],
   "source": [
    "df.loc[:,['출석','중간고사']]"
   ]
  },
  {
   "cell_type": "code",
   "execution_count": 48,
   "id": "304bd0bd-df1f-4146-b811-68b70c1bc032",
   "metadata": {},
   "outputs": [],
   "source": [
    "# 제작중"
   ]
  },
  {
   "cell_type": "code",
   "execution_count": null,
   "id": "4f99fdaf-f743-4e2c-b09b-e32a6019f471",
   "metadata": {},
   "outputs": [],
   "source": []
  }
 ],
 "metadata": {
  "kernelspec": {
   "display_name": "deep",
   "language": "python",
   "name": "deep"
  },
  "language_info": {
   "codemirror_mode": {
    "name": "ipython",
    "version": 3
   },
   "file_extension": ".py",
   "mimetype": "text/x-python",
   "name": "python",
   "nbconvert_exporter": "python",
   "pygments_lexer": "ipython3",
   "version": "3.10.13"
  }
 },
 "nbformat": 4,
 "nbformat_minor": 5
}
