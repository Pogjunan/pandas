{
 "cells": [
  {
   "cell_type": "markdown",
   "id": "26be5243-22e9-4aeb-ba13-d90d6da1ea87",
   "metadata": {},
   "source": [
    "# 강의 내용 정리"
   ]
  },
  {
   "cell_type": "markdown",
   "id": "5be13195-2956-4ad3-b8f7-b1553f33b917",
   "metadata": {},
   "source": [
    "## `-` pandas 와 numpy 에 대해서 자세히 사용"
   ]
  },
  {
   "cell_type": "markdown",
   "id": "c1703f3d-33ed-4e7a-9685-cc97aa8c9660",
   "metadata": {
    "tags": []
   },
   "source": [
    "---"
   ]
  },
  {
   "cell_type": "markdown",
   "id": "47cf4b5a-5aa7-4170-9714-7e5760ce5aeb",
   "metadata": {
    "tags": []
   },
   "source": [
    "# [목차]"
   ]
  },
  {
   "cell_type": "markdown",
   "id": "8891909a-807f-44b9-8bfd-34f8b04d4c53",
   "metadata": {
    "tags": []
   },
   "source": [
    "# 1. 사용이유\n",
    "\n",
    "# 2. 실질적인 사용\n",
    "\n",
    "# 3. AI를 위해 무엇을 공부해야하는가?"
   ]
  },
  {
   "cell_type": "markdown",
   "id": "db57a50d-1bcc-4c42-b22b-619b9c042570",
   "metadata": {},
   "source": [
    "1. pandas\n",
    "<br>\n",
    "\n",
    "`-` pandas 를 사용하는 이유 : dataframe 을 쓰기위해 , 정제를 하기 위해\n",
    "\n",
    "<br>\n",
    "\n",
    "2. numpy \n",
    "<br>\n",
    "\n",
    "`-` numpy 를 사용하는 이유 : numpy 에는 array 타입이 존재하며 array 는 R 에서의 sequence 또는 list , matrix 처럼 이용이 가능하다.\n",
    "\n",
    "`-` numpy 로 우리는 많은 인공지능을 구현할 수 있다 .(implement)"
   ]
  },
  {
   "cell_type": "code",
   "execution_count": null,
   "id": "24568859-dffd-4f58-a674-60d06bb4e518",
   "metadata": {},
   "outputs": [],
   "source": []
  }
 ],
 "metadata": {
  "kernelspec": {
   "display_name": "deep",
   "language": "python",
   "name": "deep"
  },
  "language_info": {
   "codemirror_mode": {
    "name": "ipython",
    "version": 3
   },
   "file_extension": ".py",
   "mimetype": "text/x-python",
   "name": "python",
   "nbconvert_exporter": "python",
   "pygments_lexer": "ipython3",
   "version": "3.10.14"
  }
 },
 "nbformat": 4,
 "nbformat_minor": 5
}
