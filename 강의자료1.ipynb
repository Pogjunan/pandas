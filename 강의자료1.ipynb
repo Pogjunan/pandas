{
 "cells": [
  {
   "cell_type": "markdown",
   "id": "26be5243-22e9-4aeb-ba13-d90d6da1ea87",
   "metadata": {},
   "source": [
    "# 강의 내용 정리"
   ]
  },
  {
   "cell_type": "markdown",
   "id": "5be13195-2956-4ad3-b8f7-b1553f33b917",
   "metadata": {},
   "source": [
    "## `-` pandas 와 numpy 에 대해서 자세히 사용"
   ]
  },
  {
   "cell_type": "markdown",
   "id": "66402051-4d87-4d6a-8cbb-d1c3b8481d14",
   "metadata": {},
   "source": [
    "## 강의가 어떤 도움이 될 것인가?"
   ]
  },
  {
   "cell_type": "markdown",
   "id": "c1703f3d-33ed-4e7a-9685-cc97aa8c9660",
   "metadata": {
    "tags": []
   },
   "source": [
    "---"
   ]
  },
  {
   "cell_type": "markdown",
   "id": "47cf4b5a-5aa7-4170-9714-7e5760ce5aeb",
   "metadata": {
    "tags": []
   },
   "source": [
    "# [목차]"
   ]
  },
  {
   "cell_type": "markdown",
   "id": "8891909a-807f-44b9-8bfd-34f8b04d4c53",
   "metadata": {
    "tags": []
   },
   "source": [
    "# 1. 사용이유\n",
    "\n",
    "# 2. 실질적인 사용\n",
    "\n",
    "# 3. AI를 위해 무엇을 공부해야하는가?"
   ]
  },
  {
   "cell_type": "markdown",
   "id": "2406b3e1-7369-47d3-bdce-74440e182d43",
   "metadata": {},
   "source": [
    "<br>\n",
    "<br>\n",
    "<br>\n",
    "<br>\n"
   ]
  },
  {
   "cell_type": "markdown",
   "id": "0eaefb50-5592-4db2-8d34-369cf0a8944d",
   "metadata": {},
   "source": [
    "# 1 사용이유"
   ]
  },
  {
   "cell_type": "markdown",
   "id": "db57a50d-1bcc-4c42-b22b-619b9c042570",
   "metadata": {
    "tags": []
   },
   "source": [
    "1. pandas\n",
    "<br>\n",
    "\n",
    "### `-` pandas 를 사용하는 이유 : dataframe 을 쓰기위해 , 정제를 하기 위해\n",
    "\n",
    "<br>\n",
    "\n",
    "2. numpy \n",
    "<br>\n",
    "\n",
    "### `-` numpy 를 사용하는 이유 : numpy 에는 array 타입이 존재하며 array 는 R 에서의 sequence 또는 list , matrix 처럼 이용이 가능하다.\n",
    "\n",
    "### `-` numpy 로 우리는 많은 인공지능을 구현할 수 있다 .(implement)"
   ]
  },
  {
   "cell_type": "markdown",
   "id": "4a59e751-ae84-4cf0-8488-19cc8a7ad691",
   "metadata": {},
   "source": [
    "<br>\n",
    "<br>\n",
    "<br>\n"
   ]
  },
  {
   "cell_type": "markdown",
   "id": "09ade832-6fac-4380-add8-91e3d46bb35e",
   "metadata": {},
   "source": [
    "# 2. 실질적인 사용"
   ]
  },
  {
   "cell_type": "markdown",
   "id": "c021f7e5-14f3-4432-9896-d702bc9e8809",
   "metadata": {},
   "source": [
    "## 2.1 `Pandas` 와 `데이터시각화`"
   ]
  },
  {
   "cell_type": "markdown",
   "id": "c1357d44-e0bb-40d4-a02a-83f6e0f29e4f",
   "metadata": {
    "tags": []
   },
   "source": [
    "- Pandas 로 데이터 정제와 자신이 원하는대로 시각화 가능"
   ]
  },
  {
   "cell_type": "code",
   "execution_count": 9,
   "id": "54c0dcf8-ce57-45ba-9fff-09fcf9284339",
   "metadata": {
    "tags": []
   },
   "outputs": [],
   "source": [
    "import pandas as pd"
   ]
  },
  {
   "cell_type": "code",
   "execution_count": 11,
   "id": "aaade27b-48b1-4f36-9f44-c0ce7282c1a8",
   "metadata": {
    "tags": []
   },
   "outputs": [],
   "source": [
    "# 머신러닝의 방법"
   ]
  },
  {
   "cell_type": "code",
   "execution_count": 12,
   "id": "d0b60cfa-acbc-4721-857c-f25e0fee7bba",
   "metadata": {
    "tags": []
   },
   "outputs": [
    {
     "data": {
      "text/html": [
       "<div>\n",
       "<style scoped>\n",
       "    .dataframe tbody tr th:only-of-type {\n",
       "        vertical-align: middle;\n",
       "    }\n",
       "\n",
       "    .dataframe tbody tr th {\n",
       "        vertical-align: top;\n",
       "    }\n",
       "\n",
       "    .dataframe thead th {\n",
       "        text-align: right;\n",
       "    }\n",
       "</style>\n",
       "<table border=\"1\" class=\"dataframe\">\n",
       "  <thead>\n",
       "    <tr style=\"text-align: right;\">\n",
       "      <th></th>\n",
       "      <th>지역</th>\n",
       "      <th>건물동수</th>\n",
       "      <th>연면적</th>\n",
       "      <th>에너지사용량(TOE)/전기</th>\n",
       "      <th>에너지사용량(TOE)/도시가스</th>\n",
       "      <th>에너지사용량(TOE)/지역난방</th>\n",
       "    </tr>\n",
       "  </thead>\n",
       "  <tbody>\n",
       "    <tr>\n",
       "      <th>0</th>\n",
       "      <td>종로구</td>\n",
       "      <td>17,851</td>\n",
       "      <td>9,204,140</td>\n",
       "      <td>63,492</td>\n",
       "      <td>76,653</td>\n",
       "      <td>799</td>\n",
       "    </tr>\n",
       "    <tr>\n",
       "      <th>1</th>\n",
       "      <td>중구</td>\n",
       "      <td>10,383</td>\n",
       "      <td>10,078,848</td>\n",
       "      <td>79,223</td>\n",
       "      <td>68,210</td>\n",
       "      <td>497</td>\n",
       "    </tr>\n",
       "    <tr>\n",
       "      <th>2</th>\n",
       "      <td>용산구</td>\n",
       "      <td>17,138</td>\n",
       "      <td>10,756,612</td>\n",
       "      <td>51,229</td>\n",
       "      <td>79,805</td>\n",
       "      <td>11,128</td>\n",
       "    </tr>\n",
       "    <tr>\n",
       "      <th>3</th>\n",
       "      <td>성동구</td>\n",
       "      <td>13,980</td>\n",
       "      <td>11,804,313</td>\n",
       "      <td>59,832</td>\n",
       "      <td>99,986</td>\n",
       "      <td>0</td>\n",
       "    </tr>\n",
       "    <tr>\n",
       "      <th>4</th>\n",
       "      <td>광진구</td>\n",
       "      <td>21,556</td>\n",
       "      <td>12,272,738</td>\n",
       "      <td>68,756</td>\n",
       "      <td>123,447</td>\n",
       "      <td>0</td>\n",
       "    </tr>\n",
       "    <tr>\n",
       "      <th>5</th>\n",
       "      <td>동대문구</td>\n",
       "      <td>21,794</td>\n",
       "      <td>12,664,554</td>\n",
       "      <td>65,913</td>\n",
       "      <td>111,420</td>\n",
       "      <td>0</td>\n",
       "    </tr>\n",
       "    <tr>\n",
       "      <th>6</th>\n",
       "      <td>중랑구</td>\n",
       "      <td>23,950</td>\n",
       "      <td>15,182,802</td>\n",
       "      <td>59,370</td>\n",
       "      <td>109,284</td>\n",
       "      <td>7,442</td>\n",
       "    </tr>\n",
       "    <tr>\n",
       "      <th>7</th>\n",
       "      <td>성북구</td>\n",
       "      <td>27,112</td>\n",
       "      <td>15,938,807</td>\n",
       "      <td>77,007</td>\n",
       "      <td>148,376</td>\n",
       "      <td>0</td>\n",
       "    </tr>\n",
       "    <tr>\n",
       "      <th>8</th>\n",
       "      <td>강북구</td>\n",
       "      <td>23,334</td>\n",
       "      <td>9,458,987</td>\n",
       "      <td>47,731</td>\n",
       "      <td>100,045</td>\n",
       "      <td>0</td>\n",
       "    </tr>\n",
       "    <tr>\n",
       "      <th>9</th>\n",
       "      <td>도봉구</td>\n",
       "      <td>13,168</td>\n",
       "      <td>10,644,704</td>\n",
       "      <td>44,985</td>\n",
       "      <td>90,379</td>\n",
       "      <td>5,268</td>\n",
       "    </tr>\n",
       "    <tr>\n",
       "      <th>10</th>\n",
       "      <td>노원구</td>\n",
       "      <td>9,704</td>\n",
       "      <td>17,197,086</td>\n",
       "      <td>77,010</td>\n",
       "      <td>94,340</td>\n",
       "      <td>50,859</td>\n",
       "    </tr>\n",
       "    <tr>\n",
       "      <th>11</th>\n",
       "      <td>은평구</td>\n",
       "      <td>25,200</td>\n",
       "      <td>14,735,131</td>\n",
       "      <td>75,914</td>\n",
       "      <td>130,159</td>\n",
       "      <td>14,370</td>\n",
       "    </tr>\n",
       "    <tr>\n",
       "      <th>12</th>\n",
       "      <td>서대문구</td>\n",
       "      <td>17,651</td>\n",
       "      <td>12,559,425</td>\n",
       "      <td>65,164</td>\n",
       "      <td>111,542</td>\n",
       "      <td>6,330</td>\n",
       "    </tr>\n",
       "    <tr>\n",
       "      <th>13</th>\n",
       "      <td>마포구</td>\n",
       "      <td>18,844</td>\n",
       "      <td>15,024,186</td>\n",
       "      <td>92,453</td>\n",
       "      <td>114,931</td>\n",
       "      <td>20,148</td>\n",
       "    </tr>\n",
       "    <tr>\n",
       "      <th>14</th>\n",
       "      <td>양천구</td>\n",
       "      <td>14,690</td>\n",
       "      <td>15,428,339</td>\n",
       "      <td>70,721</td>\n",
       "      <td>82,857</td>\n",
       "      <td>49,258</td>\n",
       "    </tr>\n",
       "    <tr>\n",
       "      <th>15</th>\n",
       "      <td>강서구</td>\n",
       "      <td>20,446</td>\n",
       "      <td>20,641,866</td>\n",
       "      <td>86,809</td>\n",
       "      <td>128,786</td>\n",
       "      <td>35,896</td>\n",
       "    </tr>\n",
       "    <tr>\n",
       "      <th>16</th>\n",
       "      <td>구로구</td>\n",
       "      <td>17,204</td>\n",
       "      <td>13,509,894</td>\n",
       "      <td>59,916</td>\n",
       "      <td>120,457</td>\n",
       "      <td>2,963</td>\n",
       "    </tr>\n",
       "    <tr>\n",
       "      <th>17</th>\n",
       "      <td>금천구</td>\n",
       "      <td>12,135</td>\n",
       "      <td>7,420,441</td>\n",
       "      <td>34,791</td>\n",
       "      <td>69,814</td>\n",
       "      <td>732</td>\n",
       "    </tr>\n",
       "    <tr>\n",
       "      <th>18</th>\n",
       "      <td>영등포구</td>\n",
       "      <td>18,133</td>\n",
       "      <td>14,914,027</td>\n",
       "      <td>87,480</td>\n",
       "      <td>114,238</td>\n",
       "      <td>13,531</td>\n",
       "    </tr>\n",
       "    <tr>\n",
       "      <th>19</th>\n",
       "      <td>동작구</td>\n",
       "      <td>20,102</td>\n",
       "      <td>13,612,946</td>\n",
       "      <td>66,811</td>\n",
       "      <td>132,285</td>\n",
       "      <td>899</td>\n",
       "    </tr>\n",
       "    <tr>\n",
       "      <th>20</th>\n",
       "      <td>관악구</td>\n",
       "      <td>26,460</td>\n",
       "      <td>14,997,859</td>\n",
       "      <td>85,416</td>\n",
       "      <td>158,543</td>\n",
       "      <td>0</td>\n",
       "    </tr>\n",
       "    <tr>\n",
       "      <th>21</th>\n",
       "      <td>서초구</td>\n",
       "      <td>12,856</td>\n",
       "      <td>21,560,285</td>\n",
       "      <td>135,491</td>\n",
       "      <td>121,437</td>\n",
       "      <td>38,866</td>\n",
       "    </tr>\n",
       "    <tr>\n",
       "      <th>22</th>\n",
       "      <td>강남구</td>\n",
       "      <td>16,129</td>\n",
       "      <td>29,961,585</td>\n",
       "      <td>180,121</td>\n",
       "      <td>149,045</td>\n",
       "      <td>83,459</td>\n",
       "    </tr>\n",
       "    <tr>\n",
       "      <th>23</th>\n",
       "      <td>송파구</td>\n",
       "      <td>19,331</td>\n",
       "      <td>26,573,343</td>\n",
       "      <td>139,117</td>\n",
       "      <td>143,601</td>\n",
       "      <td>71,954</td>\n",
       "    </tr>\n",
       "    <tr>\n",
       "      <th>24</th>\n",
       "      <td>강동구</td>\n",
       "      <td>16,636</td>\n",
       "      <td>15,048,315</td>\n",
       "      <td>70,341</td>\n",
       "      <td>121,931</td>\n",
       "      <td>11,921</td>\n",
       "    </tr>\n",
       "  </tbody>\n",
       "</table>\n",
       "</div>"
      ],
      "text/plain": [
       "      지역    건물동수         연면적 에너지사용량(TOE)/전기 에너지사용량(TOE)/도시가스 에너지사용량(TOE)/지역난방\n",
       "0    종로구  17,851   9,204,140         63,492           76,653              799\n",
       "1     중구  10,383  10,078,848         79,223           68,210              497\n",
       "2    용산구  17,138  10,756,612         51,229           79,805           11,128\n",
       "3    성동구  13,980  11,804,313         59,832           99,986                0\n",
       "4    광진구  21,556  12,272,738         68,756          123,447                0\n",
       "5   동대문구  21,794  12,664,554         65,913          111,420                0\n",
       "6    중랑구  23,950  15,182,802         59,370          109,284            7,442\n",
       "7    성북구  27,112  15,938,807         77,007          148,376                0\n",
       "8    강북구  23,334   9,458,987         47,731          100,045                0\n",
       "9    도봉구  13,168  10,644,704         44,985           90,379            5,268\n",
       "10   노원구   9,704  17,197,086         77,010           94,340           50,859\n",
       "11   은평구  25,200  14,735,131         75,914          130,159           14,370\n",
       "12  서대문구  17,651  12,559,425         65,164          111,542            6,330\n",
       "13   마포구  18,844  15,024,186         92,453          114,931           20,148\n",
       "14   양천구  14,690  15,428,339         70,721           82,857           49,258\n",
       "15   강서구  20,446  20,641,866         86,809          128,786           35,896\n",
       "16   구로구  17,204  13,509,894         59,916          120,457            2,963\n",
       "17   금천구  12,135   7,420,441         34,791           69,814              732\n",
       "18  영등포구  18,133  14,914,027         87,480          114,238           13,531\n",
       "19   동작구  20,102  13,612,946         66,811          132,285              899\n",
       "20   관악구  26,460  14,997,859         85,416          158,543                0\n",
       "21   서초구  12,856  21,560,285        135,491          121,437           38,866\n",
       "22   강남구  16,129  29,961,585        180,121          149,045           83,459\n",
       "23   송파구  19,331  26,573,343        139,117          143,601           71,954\n",
       "24   강동구  16,636  15,048,315         70,341          121,931           11,921"
      ]
     },
     "execution_count": 12,
     "metadata": {},
     "output_type": "execute_result"
    }
   ],
   "source": [
    "pd.read_csv('https://raw.githubusercontent.com/guebin/DV2022/main/posts/Energy/Seoul2019.csv')"
   ]
  },
  {
   "cell_type": "markdown",
   "id": "6489c325-f709-46fe-aa86-7c056a7df75b",
   "metadata": {
    "tags": []
   },
   "source": [
    "###  Tool"
   ]
  },
  {
   "cell_type": "markdown",
   "id": "1816d388-11f8-4e4e-849d-def9a5158f14",
   "metadata": {
    "tags": []
   },
   "source": [
    "## 2.2 `Numpy` 와 `Sequence 정제`"
   ]
  },
  {
   "cell_type": "markdown",
   "id": "7f7d3a40-e265-4d74-9858-ef8c8e464be5",
   "metadata": {
    "tags": []
   },
   "source": [
    "###  axis 의 중요성"
   ]
  },
  {
   "cell_type": "markdown",
   "id": "02a6c9eb-55e1-4f81-a902-80b494b5f176",
   "metadata": {},
   "source": [
    "\n",
    "<br>\n",
    "<br>\n",
    "<br>"
   ]
  },
  {
   "cell_type": "markdown",
   "id": "6b87aa3e-ecf2-428c-8836-de734f5f0b68",
   "metadata": {},
   "source": [
    "# 3 AI 를 위해 무엇을 공부해야하는가?"
   ]
  },
  {
   "cell_type": "markdown",
   "id": "2aa947e0-1aff-482a-9f6e-0a75dde07ec2",
   "metadata": {},
   "source": [
    "- kaggle\n",
    "- machinelearning 은 기초베이스\n",
    "- deeplearning"
   ]
  },
  {
   "cell_type": "code",
   "execution_count": 13,
   "id": "f9f9d5cf-57e0-47d5-8fdb-d9d867c569f1",
   "metadata": {
    "tags": []
   },
   "outputs": [],
   "source": [
    "# deeplearning 의 방법"
   ]
  },
  {
   "cell_type": "code",
   "execution_count": 14,
   "id": "26b430a3-38f4-4ada-b4a7-026fad3c8f6e",
   "metadata": {
    "tags": []
   },
   "outputs": [],
   "source": [
    "# LTSF적용성공 예제"
   ]
  },
  {
   "cell_type": "code",
   "execution_count": 15,
   "id": "ede240d6-7a5a-45cc-a2ef-f4fabec2de86",
   "metadata": {
    "tags": []
   },
   "outputs": [],
   "source": [
    "# deeplearning 을 어떻게 공부해야하는가? 와 앞으로의 공부 방법"
   ]
  },
  {
   "cell_type": "code",
   "execution_count": null,
   "id": "ffc8c0e0-3c3a-4474-81d4-e216be0abb01",
   "metadata": {},
   "outputs": [],
   "source": []
  }
 ],
 "metadata": {
  "kernelspec": {
   "display_name": "deep",
   "language": "python",
   "name": "deep"
  },
  "language_info": {
   "codemirror_mode": {
    "name": "ipython",
    "version": 3
   },
   "file_extension": ".py",
   "mimetype": "text/x-python",
   "name": "python",
   "nbconvert_exporter": "python",
   "pygments_lexer": "ipython3",
   "version": "3.10.14"
  }
 },
 "nbformat": 4,
 "nbformat_minor": 5
}
