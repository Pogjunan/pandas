{
 "cells": [
  {
   "cell_type": "code",
   "execution_count": 1,
   "id": "edc53d5a-1f7a-4752-b86c-6cfb8558e0eb",
   "metadata": {},
   "outputs": [],
   "source": [
    "# 짱구 번외 class 숙제 정답"
   ]
  },
  {
   "cell_type": "code",
   "execution_count": null,
   "id": "80831234-39e2-4bfa-981a-0a6c30431192",
   "metadata": {},
   "outputs": [],
   "source": [
    "짱구집 = 짱구()\n",
    "짱구집"
   ]
  },
  {
   "cell_type": "code",
   "execution_count": null,
   "id": "f576c2f2-3b19-40f9-9870-03ac90406c01",
   "metadata": {},
   "outputs": [],
   "source": [
    "짱구집.title = '짱구의 집 폭발'\n",
    "짱구집.imgurl = '짱구-짱구-집폭발.gif' # 파일의 위치로 넣기\n",
    "짱구집.txt = '짱구의 엄청난 화력'\n",
    "짱구집.highlight = '자그마치 50년형..'\n",
    "짱구집.html_짱구 =\\\n",
    "'''\n",
    "<style>\n",
    "    .title {{\n",
    "        font-family: \"Times New Roman\", serif;\n",
    "        font-size: 30px;\n",
    "        font-weight: 900;\n",
    "    }}\n",
    "    .text {{\n",
    "        font-family: \"Arial\", sans-serif;\n",
    "        font-size: 20px;\n",
    "        font-style: italic;\n",
    "    }}\n",
    "    .highlight {{\n",
    "        font-family: \"Montserrat\", monospace;\n",
    "        font-size: 35px;\n",
    "        font-weight: 900;\n",
    "        text-decoration: underline;\n",
    "        font-style: normal;\n",
    "        color: darkblue;\n",
    "        background-color: #FFFF00;\n",
    "    }}\n",
    "</style>\n",
    "\n",
    "<p class=\"title\">{ttl}</p>\n",
    "<img src={url} width=\"600\">\n",
    "<p class=\"text\"> {T}</p>\n",
    "<p class=\"title\">짱구 아빠 대출은 <span class=\"highlight\">{h1}</span></p>\n",
    "'''\n"
   ]
  }
 ],
 "metadata": {
  "kernelspec": {
   "display_name": "deep",
   "language": "python",
   "name": "deep"
  },
  "language_info": {
   "codemirror_mode": {
    "name": "ipython",
    "version": 3
   },
   "file_extension": ".py",
   "mimetype": "text/x-python",
   "name": "python",
   "nbconvert_exporter": "python",
   "pygments_lexer": "ipython3",
   "version": "3.10.13"
  }
 },
 "nbformat": 4,
 "nbformat_minor": 5
}
