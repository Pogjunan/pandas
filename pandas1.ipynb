{
 "cells": [
  {
   "cell_type": "markdown",
   "id": "117f39b2-032f-4abd-b554-36a061052089",
   "metadata": {},
   "source": [
    "# `[1]` Numpy , Pandas"
   ]
  },
  {
   "cell_type": "markdown",
   "id": "4abbdbe4-a8b8-4588-925c-fca785c6078a",
   "metadata": {
    "scrolled": true
   },
   "source": [
    "## `-` 기초 설명\n",
    "<br>\n",
    "\n",
    "### 1.  Numpy\n",
    "- 행렬을 표현하기위해 사용하는 `Import`\n",
    "\n",
    "\n",
    "### 2. Pandas\n",
    "- 표 형식 (데이터프레임 , 행과 열이 존재) 을 표현하기 위해 사용하는 `Import`"
   ]
  },
  {
   "cell_type": "markdown",
   "id": "a1eae8f0-e391-48cf-baf7-1d800091022f",
   "metadata": {},
   "source": [
    "# `1. Numpy`"
   ]
  },
  {
   "cell_type": "markdown",
   "id": "99135340-aa60-4d1d-b35a-8712a2e54e36",
   "metadata": {},
   "source": [
    "## `import`"
   ]
  },
  {
   "cell_type": "code",
   "execution_count": 4,
   "id": "e9554f09-be63-417c-bd87-8a7ea03ea77f",
   "metadata": {},
   "outputs": [],
   "source": [
    "#1\n",
    "\n",
    "import numpy\n",
    "\n",
    "#2\n",
    "\n",
    "import numpy as np\n",
    "\n",
    "# `np` 라고 쓰겠다는 의미"
   ]
  },
  {
   "cell_type": "code",
   "execution_count": 5,
   "id": "892e3716-0603-43ec-a942-ec7cebefbc83",
   "metadata": {},
   "outputs": [
    {
     "data": {
      "text/plain": [
       "[1, 2, 3]"
      ]
     },
     "execution_count": 5,
     "metadata": {},
     "output_type": "execute_result"
    }
   ],
   "source": [
    "ar = [1,2,3]\n",
    "ar"
   ]
  },
  {
   "cell_type": "code",
   "execution_count": 6,
   "id": "f266064c-4704-47e1-b84e-ef6629207bc0",
   "metadata": {},
   "outputs": [
    {
     "data": {
      "text/plain": [
       "array([1, 2, 3])"
      ]
     },
     "execution_count": 6,
     "metadata": {},
     "output_type": "execute_result"
    }
   ],
   "source": [
    "a = np.array(ar)\n",
    "a"
   ]
  },
  {
   "cell_type": "code",
   "execution_count": null,
   "id": "1b973828-5447-41c5-b5cb-33304fb8c2af",
   "metadata": {},
   "outputs": [],
   "source": []
  }
 ],
 "metadata": {
  "kernelspec": {
   "display_name": "deep",
   "language": "python",
   "name": "deep"
  },
  "language_info": {
   "codemirror_mode": {
    "name": "ipython",
    "version": 3
   },
   "file_extension": ".py",
   "mimetype": "text/x-python",
   "name": "python",
   "nbconvert_exporter": "python",
   "pygments_lexer": "ipython3",
   "version": "3.10.13"
  }
 },
 "nbformat": 4,
 "nbformat_minor": 5
}
