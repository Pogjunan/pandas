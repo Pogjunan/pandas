{
 "cells": [
  {
   "cell_type": "markdown",
   "id": "26be5243-22e9-4aeb-ba13-d90d6da1ea87",
   "metadata": {},
   "source": [
    "# 강의 내용 정리"
   ]
  },
  {
   "cell_type": "markdown",
   "id": "5be13195-2956-4ad3-b8f7-b1553f33b917",
   "metadata": {},
   "source": [
    "## `-` pandas 와 numpy 에 대해서 자세히 사용"
   ]
  },
  {
   "cell_type": "markdown",
   "id": "66402051-4d87-4d6a-8cbb-d1c3b8481d14",
   "metadata": {},
   "source": [
    "## 강의가 어떤 도움이 될 것인가?"
   ]
  },
  {
   "cell_type": "markdown",
   "id": "c1703f3d-33ed-4e7a-9685-cc97aa8c9660",
   "metadata": {
    "tags": []
   },
   "source": [
    "---"
   ]
  },
  {
   "cell_type": "markdown",
   "id": "47cf4b5a-5aa7-4170-9714-7e5760ce5aeb",
   "metadata": {
    "tags": []
   },
   "source": [
    "# [목차]"
   ]
  },
  {
   "cell_type": "markdown",
   "id": "8891909a-807f-44b9-8bfd-34f8b04d4c53",
   "metadata": {
    "tags": []
   },
   "source": [
    "# 1. 사용이유\n",
    "\n",
    "# 2. 실질적인 사용\n",
    "\n",
    "# 3. AI를 위해 무엇을 공부해야하는가?"
   ]
  },
  {
   "cell_type": "markdown",
   "id": "2406b3e1-7369-47d3-bdce-74440e182d43",
   "metadata": {},
   "source": [
    "<br>\n",
    "<br>\n",
    "<br>\n",
    "<br>\n"
   ]
  },
  {
   "cell_type": "markdown",
   "id": "0eaefb50-5592-4db2-8d34-369cf0a8944d",
   "metadata": {},
   "source": [
    "# 1 사용이유"
   ]
  },
  {
   "cell_type": "markdown",
   "id": "db57a50d-1bcc-4c42-b22b-619b9c042570",
   "metadata": {
    "tags": []
   },
   "source": [
    "1. pandas\n",
    "<br>\n",
    "\n",
    "### `-` pandas 를 사용하는 이유 : dataframe 을 쓰기위해 , 정제를 하기 위해\n",
    "\n",
    "<br>\n",
    "\n",
    "2. numpy \n",
    "<br>\n",
    "\n",
    "### `-` numpy 를 사용하는 이유 : numpy 에는 array 타입이 존재하며 array 는 R 에서의 sequence 또는 list , matrix 처럼 이용이 가능하다.\n",
    "\n",
    "### `-` numpy 로 우리는 많은 인공지능을 구현할 수 있다 .(implement)"
   ]
  },
  {
   "cell_type": "markdown",
   "id": "4a59e751-ae84-4cf0-8488-19cc8a7ad691",
   "metadata": {},
   "source": [
    "<br>\n",
    "<br>\n",
    "<br>\n"
   ]
  },
  {
   "cell_type": "markdown",
   "id": "09ade832-6fac-4380-add8-91e3d46bb35e",
   "metadata": {},
   "source": [
    "# 2. 실질적인 사용"
   ]
  },
  {
   "cell_type": "markdown",
   "id": "c021f7e5-14f3-4432-9896-d702bc9e8809",
   "metadata": {},
   "source": [
    "## 2.1 `Pandas` 와 `데이터시각화`"
   ]
  },
  {
   "cell_type": "markdown",
   "id": "c1357d44-e0bb-40d4-a02a-83f6e0f29e4f",
   "metadata": {
    "tags": []
   },
   "source": [
    "- Pandas 로 데이터 정제와 자신이 원하는대로 시각화 가능"
   ]
  },
  {
   "cell_type": "code",
   "execution_count": 9,
   "id": "54c0dcf8-ce57-45ba-9fff-09fcf9284339",
   "metadata": {
    "tags": []
   },
   "outputs": [],
   "source": [
    "import pandas as pd"
   ]
  },
  {
   "cell_type": "code",
   "execution_count": 11,
   "id": "aaade27b-48b1-4f36-9f44-c0ce7282c1a8",
   "metadata": {
    "tags": []
   },
   "outputs": [],
   "source": [
    "# 머신러닝의 방법"
   ]
  },
  {
   "cell_type": "code",
   "execution_count": 12,
   "id": "d0b60cfa-acbc-4721-857c-f25e0fee7bba",
   "metadata": {
    "tags": []
   },
   "outputs": [
    {
     "data": {
      "text/html": [
       "<div>\n",
       "<style scoped>\n",
       "    .dataframe tbody tr th:only-of-type {\n",
       "        vertical-align: middle;\n",
       "    }\n",
       "\n",
       "    .dataframe tbody tr th {\n",
       "        vertical-align: top;\n",
       "    }\n",
       "\n",
       "    .dataframe thead th {\n",
       "        text-align: right;\n",
       "    }\n",
       "</style>\n",
       "<table border=\"1\" class=\"dataframe\">\n",
       "  <thead>\n",
       "    <tr style=\"text-align: right;\">\n",
       "      <th></th>\n",
       "      <th>지역</th>\n",
       "      <th>건물동수</th>\n",
       "      <th>연면적</th>\n",
       "      <th>에너지사용량(TOE)/전기</th>\n",
       "      <th>에너지사용량(TOE)/도시가스</th>\n",
       "      <th>에너지사용량(TOE)/지역난방</th>\n",
       "    </tr>\n",
       "  </thead>\n",
       "  <tbody>\n",
       "    <tr>\n",
       "      <th>0</th>\n",
       "      <td>종로구</td>\n",
       "      <td>17,851</td>\n",
       "      <td>9,204,140</td>\n",
       "      <td>63,492</td>\n",
       "      <td>76,653</td>\n",
       "      <td>799</td>\n",
       "    </tr>\n",
       "    <tr>\n",
       "      <th>1</th>\n",
       "      <td>중구</td>\n",
       "      <td>10,383</td>\n",
       "      <td>10,078,848</td>\n",
       "      <td>79,223</td>\n",
       "      <td>68,210</td>\n",
       "      <td>497</td>\n",
       "    </tr>\n",
       "    <tr>\n",
       "      <th>2</th>\n",
       "      <td>용산구</td>\n",
       "      <td>17,138</td>\n",
       "      <td>10,756,612</td>\n",
       "      <td>51,229</td>\n",
       "      <td>79,805</td>\n",
       "      <td>11,128</td>\n",
       "    </tr>\n",
       "    <tr>\n",
       "      <th>3</th>\n",
       "      <td>성동구</td>\n",
       "      <td>13,980</td>\n",
       "      <td>11,804,313</td>\n",
       "      <td>59,832</td>\n",
       "      <td>99,986</td>\n",
       "      <td>0</td>\n",
       "    </tr>\n",
       "    <tr>\n",
       "      <th>4</th>\n",
       "      <td>광진구</td>\n",
       "      <td>21,556</td>\n",
       "      <td>12,272,738</td>\n",
       "      <td>68,756</td>\n",
       "      <td>123,447</td>\n",
       "      <td>0</td>\n",
       "    </tr>\n",
       "    <tr>\n",
       "      <th>5</th>\n",
       "      <td>동대문구</td>\n",
       "      <td>21,794</td>\n",
       "      <td>12,664,554</td>\n",
       "      <td>65,913</td>\n",
       "      <td>111,420</td>\n",
       "      <td>0</td>\n",
       "    </tr>\n",
       "    <tr>\n",
       "      <th>6</th>\n",
       "      <td>중랑구</td>\n",
       "      <td>23,950</td>\n",
       "      <td>15,182,802</td>\n",
       "      <td>59,370</td>\n",
       "      <td>109,284</td>\n",
       "      <td>7,442</td>\n",
       "    </tr>\n",
       "    <tr>\n",
       "      <th>7</th>\n",
       "      <td>성북구</td>\n",
       "      <td>27,112</td>\n",
       "      <td>15,938,807</td>\n",
       "      <td>77,007</td>\n",
       "      <td>148,376</td>\n",
       "      <td>0</td>\n",
       "    </tr>\n",
       "    <tr>\n",
       "      <th>8</th>\n",
       "      <td>강북구</td>\n",
       "      <td>23,334</td>\n",
       "      <td>9,458,987</td>\n",
       "      <td>47,731</td>\n",
       "      <td>100,045</td>\n",
       "      <td>0</td>\n",
       "    </tr>\n",
       "    <tr>\n",
       "      <th>9</th>\n",
       "      <td>도봉구</td>\n",
       "      <td>13,168</td>\n",
       "      <td>10,644,704</td>\n",
       "      <td>44,985</td>\n",
       "      <td>90,379</td>\n",
       "      <td>5,268</td>\n",
       "    </tr>\n",
       "    <tr>\n",
       "      <th>10</th>\n",
       "      <td>노원구</td>\n",
       "      <td>9,704</td>\n",
       "      <td>17,197,086</td>\n",
       "      <td>77,010</td>\n",
       "      <td>94,340</td>\n",
       "      <td>50,859</td>\n",
       "    </tr>\n",
       "    <tr>\n",
       "      <th>11</th>\n",
       "      <td>은평구</td>\n",
       "      <td>25,200</td>\n",
       "      <td>14,735,131</td>\n",
       "      <td>75,914</td>\n",
       "      <td>130,159</td>\n",
       "      <td>14,370</td>\n",
       "    </tr>\n",
       "    <tr>\n",
       "      <th>12</th>\n",
       "      <td>서대문구</td>\n",
       "      <td>17,651</td>\n",
       "      <td>12,559,425</td>\n",
       "      <td>65,164</td>\n",
       "      <td>111,542</td>\n",
       "      <td>6,330</td>\n",
       "    </tr>\n",
       "    <tr>\n",
       "      <th>13</th>\n",
       "      <td>마포구</td>\n",
       "      <td>18,844</td>\n",
       "      <td>15,024,186</td>\n",
       "      <td>92,453</td>\n",
       "      <td>114,931</td>\n",
       "      <td>20,148</td>\n",
       "    </tr>\n",
       "    <tr>\n",
       "      <th>14</th>\n",
       "      <td>양천구</td>\n",
       "      <td>14,690</td>\n",
       "      <td>15,428,339</td>\n",
       "      <td>70,721</td>\n",
       "      <td>82,857</td>\n",
       "      <td>49,258</td>\n",
       "    </tr>\n",
       "    <tr>\n",
       "      <th>15</th>\n",
       "      <td>강서구</td>\n",
       "      <td>20,446</td>\n",
       "      <td>20,641,866</td>\n",
       "      <td>86,809</td>\n",
       "      <td>128,786</td>\n",
       "      <td>35,896</td>\n",
       "    </tr>\n",
       "    <tr>\n",
       "      <th>16</th>\n",
       "      <td>구로구</td>\n",
       "      <td>17,204</td>\n",
       "      <td>13,509,894</td>\n",
       "      <td>59,916</td>\n",
       "      <td>120,457</td>\n",
       "      <td>2,963</td>\n",
       "    </tr>\n",
       "    <tr>\n",
       "      <th>17</th>\n",
       "      <td>금천구</td>\n",
       "      <td>12,135</td>\n",
       "      <td>7,420,441</td>\n",
       "      <td>34,791</td>\n",
       "      <td>69,814</td>\n",
       "      <td>732</td>\n",
       "    </tr>\n",
       "    <tr>\n",
       "      <th>18</th>\n",
       "      <td>영등포구</td>\n",
       "      <td>18,133</td>\n",
       "      <td>14,914,027</td>\n",
       "      <td>87,480</td>\n",
       "      <td>114,238</td>\n",
       "      <td>13,531</td>\n",
       "    </tr>\n",
       "    <tr>\n",
       "      <th>19</th>\n",
       "      <td>동작구</td>\n",
       "      <td>20,102</td>\n",
       "      <td>13,612,946</td>\n",
       "      <td>66,811</td>\n",
       "      <td>132,285</td>\n",
       "      <td>899</td>\n",
       "    </tr>\n",
       "    <tr>\n",
       "      <th>20</th>\n",
       "      <td>관악구</td>\n",
       "      <td>26,460</td>\n",
       "      <td>14,997,859</td>\n",
       "      <td>85,416</td>\n",
       "      <td>158,543</td>\n",
       "      <td>0</td>\n",
       "    </tr>\n",
       "    <tr>\n",
       "      <th>21</th>\n",
       "      <td>서초구</td>\n",
       "      <td>12,856</td>\n",
       "      <td>21,560,285</td>\n",
       "      <td>135,491</td>\n",
       "      <td>121,437</td>\n",
       "      <td>38,866</td>\n",
       "    </tr>\n",
       "    <tr>\n",
       "      <th>22</th>\n",
       "      <td>강남구</td>\n",
       "      <td>16,129</td>\n",
       "      <td>29,961,585</td>\n",
       "      <td>180,121</td>\n",
       "      <td>149,045</td>\n",
       "      <td>83,459</td>\n",
       "    </tr>\n",
       "    <tr>\n",
       "      <th>23</th>\n",
       "      <td>송파구</td>\n",
       "      <td>19,331</td>\n",
       "      <td>26,573,343</td>\n",
       "      <td>139,117</td>\n",
       "      <td>143,601</td>\n",
       "      <td>71,954</td>\n",
       "    </tr>\n",
       "    <tr>\n",
       "      <th>24</th>\n",
       "      <td>강동구</td>\n",
       "      <td>16,636</td>\n",
       "      <td>15,048,315</td>\n",
       "      <td>70,341</td>\n",
       "      <td>121,931</td>\n",
       "      <td>11,921</td>\n",
       "    </tr>\n",
       "  </tbody>\n",
       "</table>\n",
       "</div>"
      ],
      "text/plain": [
       "      지역    건물동수         연면적 에너지사용량(TOE)/전기 에너지사용량(TOE)/도시가스 에너지사용량(TOE)/지역난방\n",
       "0    종로구  17,851   9,204,140         63,492           76,653              799\n",
       "1     중구  10,383  10,078,848         79,223           68,210              497\n",
       "2    용산구  17,138  10,756,612         51,229           79,805           11,128\n",
       "3    성동구  13,980  11,804,313         59,832           99,986                0\n",
       "4    광진구  21,556  12,272,738         68,756          123,447                0\n",
       "5   동대문구  21,794  12,664,554         65,913          111,420                0\n",
       "6    중랑구  23,950  15,182,802         59,370          109,284            7,442\n",
       "7    성북구  27,112  15,938,807         77,007          148,376                0\n",
       "8    강북구  23,334   9,458,987         47,731          100,045                0\n",
       "9    도봉구  13,168  10,644,704         44,985           90,379            5,268\n",
       "10   노원구   9,704  17,197,086         77,010           94,340           50,859\n",
       "11   은평구  25,200  14,735,131         75,914          130,159           14,370\n",
       "12  서대문구  17,651  12,559,425         65,164          111,542            6,330\n",
       "13   마포구  18,844  15,024,186         92,453          114,931           20,148\n",
       "14   양천구  14,690  15,428,339         70,721           82,857           49,258\n",
       "15   강서구  20,446  20,641,866         86,809          128,786           35,896\n",
       "16   구로구  17,204  13,509,894         59,916          120,457            2,963\n",
       "17   금천구  12,135   7,420,441         34,791           69,814              732\n",
       "18  영등포구  18,133  14,914,027         87,480          114,238           13,531\n",
       "19   동작구  20,102  13,612,946         66,811          132,285              899\n",
       "20   관악구  26,460  14,997,859         85,416          158,543                0\n",
       "21   서초구  12,856  21,560,285        135,491          121,437           38,866\n",
       "22   강남구  16,129  29,961,585        180,121          149,045           83,459\n",
       "23   송파구  19,331  26,573,343        139,117          143,601           71,954\n",
       "24   강동구  16,636  15,048,315         70,341          121,931           11,921"
      ]
     },
     "execution_count": 12,
     "metadata": {},
     "output_type": "execute_result"
    }
   ],
   "source": [
    "pd.read_csv('https://raw.githubusercontent.com/guebin/DV2022/main/posts/Energy/Seoul2019.csv')"
   ]
  },
  {
   "cell_type": "code",
   "execution_count": 1,
   "id": "6b98f3e9-5a21-4895-9bb5-563319039162",
   "metadata": {
    "tags": []
   },
   "outputs": [],
   "source": [
    "# 정리 시작"
   ]
  },
  {
   "cell_type": "markdown",
   "id": "6489c325-f709-46fe-aa86-7c056a7df75b",
   "metadata": {
    "tags": []
   },
   "source": [
    "###  Tool"
   ]
  },
  {
   "cell_type": "markdown",
   "id": "1816d388-11f8-4e4e-849d-def9a5158f14",
   "metadata": {
    "tags": []
   },
   "source": [
    "## 2.2 `Numpy` 와 `Sequence 정제`"
   ]
  },
  {
   "cell_type": "markdown",
   "id": "7f7d3a40-e265-4d74-9858-ef8c8e464be5",
   "metadata": {
    "tags": []
   },
   "source": [
    "###  axis 의 중요성"
   ]
  },
  {
   "cell_type": "code",
   "execution_count": 2,
   "id": "7c43e952-74a6-453d-9810-7284274ddb83",
   "metadata": {
    "tags": []
   },
   "outputs": [],
   "source": [
    "import numpy as np"
   ]
  },
  {
   "cell_type": "code",
   "execution_count": 4,
   "id": "fc96e284-bb72-491c-9282-921565a073a4",
   "metadata": {
    "tags": []
   },
   "outputs": [
    {
     "data": {
      "text/plain": [
       "array([ 1,  2,  3, -1, -2, -3])"
      ]
     },
     "execution_count": 4,
     "metadata": {},
     "output_type": "execute_result"
    }
   ],
   "source": [
    "a= np.array([1,2,3]) \n",
    "b= -a \n",
    "np.concatenate([a,b])"
   ]
  },
  {
   "cell_type": "code",
   "execution_count": 8,
   "id": "b7f4ebf2-3693-426d-816c-438a8c677db2",
   "metadata": {
    "tags": []
   },
   "outputs": [
    {
     "data": {
      "text/plain": [
       "array([ 1,  2,  3, -1, -2, -3])"
      ]
     },
     "execution_count": 8,
     "metadata": {},
     "output_type": "execute_result"
    }
   ],
   "source": [
    "np.concatenate([a,b],axis=0)"
   ]
  },
  {
   "cell_type": "code",
   "execution_count": 9,
   "id": "67552541-17c9-4743-b793-0aa21b587c4e",
   "metadata": {
    "tags": []
   },
   "outputs": [
    {
     "data": {
      "text/plain": [
       "array([[ 1,  2],\n",
       "       [ 3, -1],\n",
       "       [-2, -3]])"
      ]
     },
     "execution_count": 9,
     "metadata": {},
     "output_type": "execute_result"
    }
   ],
   "source": [
    "np.concatenate([a,b]).reshape(3,2)"
   ]
  },
  {
   "cell_type": "code",
   "execution_count": 13,
   "id": "8d260995-5613-45e9-8ace-ac9d0fadd34e",
   "metadata": {
    "tags": []
   },
   "outputs": [
    {
     "data": {
      "text/plain": [
       "(3, 2)"
      ]
     },
     "execution_count": 13,
     "metadata": {},
     "output_type": "execute_result"
    }
   ],
   "source": [
    "np.concatenate([a,b]).reshape(3,2).squeeze().shape"
   ]
  },
  {
   "cell_type": "code",
   "execution_count": 14,
   "id": "84e73d26-d6df-4c7a-acdc-c9c040f5197b",
   "metadata": {
    "tags": []
   },
   "outputs": [
    {
     "data": {
      "text/plain": [
       "(6,)"
      ]
     },
     "execution_count": 14,
     "metadata": {},
     "output_type": "execute_result"
    }
   ],
   "source": [
    "np.concatenate([a,b],axis=0).shape"
   ]
  },
  {
   "cell_type": "code",
   "execution_count": 19,
   "id": "6336957c-b964-4c15-bca7-b79c0b9e7b04",
   "metadata": {
    "tags": []
   },
   "outputs": [
    {
     "name": "stdout",
     "output_type": "stream",
     "text": [
      "torch.Size([7, 46, 46])\n",
      "torch.Size([7, 46, 1, 46])\n"
     ]
    }
   ],
   "source": [
    "import torch\n",
    "\n",
    "x = torch.rand(7,46,46)\n",
    "print(x.shape)  # torch.Size([7, 46, 46])\n",
    "\n",
    "x = x.unsqueeze(dim=2)\n",
    "print(x.shape)  # torch.Size([7, 46, 1, 46])\n",
    " "
   ]
  },
  {
   "cell_type": "code",
   "execution_count": 21,
   "id": "4209b1be-0333-450b-a487-aad3dc9a298a",
   "metadata": {
    "tags": []
   },
   "outputs": [],
   "source": [
    "a= np.array([1,2,3,4,5,6]).reshape(3,2)\n",
    "b= -a "
   ]
  },
  {
   "cell_type": "code",
   "execution_count": 22,
   "id": "634052fe-b79e-403c-baad-bcc3549a9242",
   "metadata": {
    "tags": []
   },
   "outputs": [
    {
     "data": {
      "text/plain": [
       "array([[ 1,  2, -1, -2],\n",
       "       [ 3,  4, -3, -4],\n",
       "       [ 5,  6, -5, -6]])"
      ]
     },
     "execution_count": 22,
     "metadata": {},
     "output_type": "execute_result"
    }
   ],
   "source": [
    "np.concatenate([a,b],axis=1)"
   ]
  },
  {
   "cell_type": "code",
   "execution_count": 23,
   "id": "6121bdc7-69eb-433b-b78d-fc8d07e3afba",
   "metadata": {
    "tags": []
   },
   "outputs": [
    {
     "data": {
      "text/plain": [
       "((3, 2), (3, 2), (6, 2))"
      ]
     },
     "execution_count": 23,
     "metadata": {},
     "output_type": "execute_result"
    }
   ],
   "source": [
    "a.shape,b.shape, np.concatenate([a,b],axis=0).shape"
   ]
  },
  {
   "cell_type": "code",
   "execution_count": 27,
   "id": "5341033a-fb7b-4928-9367-a477287b8ec8",
   "metadata": {
    "tags": []
   },
   "outputs": [
    {
     "data": {
      "text/plain": [
       "((6, 2),\n",
       " array([[ 1,  2],\n",
       "        [ 3,  4],\n",
       "        [ 5,  6],\n",
       "        [-1, -2],\n",
       "        [-3, -4],\n",
       "        [-5, -6]]))"
      ]
     },
     "execution_count": 27,
     "metadata": {},
     "output_type": "execute_result"
    }
   ],
   "source": [
    "np.concatenate([a,b],axis=0).shape,np.concatenate([a,b],axis=0)"
   ]
  },
  {
   "cell_type": "code",
   "execution_count": 28,
   "id": "734b3b8e-eba6-4eb2-b854-bd2e4d2e0878",
   "metadata": {
    "tags": []
   },
   "outputs": [
    {
     "ename": "AxisError",
     "evalue": "axis 2 is out of bounds for array of dimension 2",
     "output_type": "error",
     "traceback": [
      "\u001b[0;31m---------------------------------------------------------------------------\u001b[0m",
      "\u001b[0;31mAxisError\u001b[0m                                 Traceback (most recent call last)",
      "Cell \u001b[0;32mIn[28], line 1\u001b[0m\n\u001b[0;32m----> 1\u001b[0m \u001b[43mnp\u001b[49m\u001b[38;5;241;43m.\u001b[39;49m\u001b[43mconcatenate\u001b[49m\u001b[43m(\u001b[49m\u001b[43m[\u001b[49m\u001b[43ma\u001b[49m\u001b[43m,\u001b[49m\u001b[43mb\u001b[49m\u001b[43m]\u001b[49m\u001b[43m,\u001b[49m\u001b[43maxis\u001b[49m\u001b[38;5;241;43m=\u001b[39;49m\u001b[38;5;241;43m2\u001b[39;49m\u001b[43m)\u001b[49m\u001b[38;5;241m.\u001b[39mshape,np\u001b[38;5;241m.\u001b[39mconcatenate([a,b],axis\u001b[38;5;241m=\u001b[39m\u001b[38;5;241m2\u001b[39m)\n",
      "\u001b[0;31mAxisError\u001b[0m: axis 2 is out of bounds for array of dimension 2"
     ]
    }
   ],
   "source": [
    "np.concatenate([a,b],axis=2).shape,np.concatenate([a,b],axis=2)"
   ]
  },
  {
   "cell_type": "markdown",
   "id": "d2309d91-b43d-444f-849e-3972f4fd1577",
   "metadata": {},
   "source": [
    "# axis 외우기\n",
    "\n",
    "`-` 필요성 : 딥러닝 pytorch 에 모든 것이 차원임."
   ]
  },
  {
   "cell_type": "code",
   "execution_count": 32,
   "id": "fe6cfe37-1ce0-4071-aa00-f9b6655128e1",
   "metadata": {
    "tags": []
   },
   "outputs": [
    {
     "data": {
      "text/plain": [
       "array([ 0,  1,  2,  3,  4,  5,  6,  7,  8,  9, 10, 11, 12, 13, 14, 15, 16,\n",
       "       17, 18, 19, 20, 21, 22, 23])"
      ]
     },
     "execution_count": 32,
     "metadata": {},
     "output_type": "execute_result"
    }
   ],
   "source": [
    "a= np.arange(24)\n",
    "a"
   ]
  },
  {
   "cell_type": "markdown",
   "id": "3abfa311-a6a7-4982-80b0-4b6e49ee108f",
   "metadata": {},
   "source": [
    "#차원과 axis(축)"
   ]
  },
  {
   "cell_type": "markdown",
   "id": "fafb2e5b-4604-4879-b61c-fa0f5e299325",
   "metadata": {},
   "source": [
    "# 차원 : [D3][D2=행][d1=열]\n"
   ]
  },
  {
   "cell_type": "code",
   "execution_count": 34,
   "id": "f0984918-f346-4b19-84b0-5ef2a7b61478",
   "metadata": {
    "tags": []
   },
   "outputs": [
    {
     "data": {
      "text/plain": [
       "array([[[ 1,  2,  3,  4],\n",
       "        [ 5,  6,  7,  8],\n",
       "        [ 9, 10, 11, 12]],\n",
       "\n",
       "       [[13, 14, 15, 16],\n",
       "        [17, 18, 19, 20],\n",
       "        [21, 22, 23, 24]]])"
      ]
     },
     "execution_count": 34,
     "metadata": {},
     "output_type": "execute_result"
    }
   ],
   "source": [
    "arr3 = np.arange(1,25).reshape(2,3,4)\n",
    "arr3"
   ]
  },
  {
   "cell_type": "code",
   "execution_count": 35,
   "id": "04588a92-59b0-4c10-8892-628ba2e34e53",
   "metadata": {
    "tags": []
   },
   "outputs": [
    {
     "data": {
      "text/plain": [
       "24"
      ]
     },
     "execution_count": 35,
     "metadata": {},
     "output_type": "execute_result"
    }
   ],
   "source": [
    "arr3[1][2][3]"
   ]
  },
  {
   "cell_type": "markdown",
   "id": "9699bbfa-68ee-43ea-a77c-79f647d0cdcc",
   "metadata": {},
   "source": [
    "`-` `3차원` :  $[D3: axis=0] , [D2: axis=1] ,[D1:axis=2] $\n",
    "\n",
    "<br>\n",
    "\n",
    "`-` `2차원` : $[D2: axis=0] , [D1:axis=1]$"
   ]
  },
  {
   "cell_type": "code",
   "execution_count": 40,
   "id": "f0f0ca4a-1a4c-4d4a-86d4-478b3e30ea8c",
   "metadata": {
    "tags": []
   },
   "outputs": [
    {
     "data": {
      "text/plain": [
       "array([[10, 26, 42],\n",
       "       [58, 74, 90]])"
      ]
     },
     "execution_count": 40,
     "metadata": {},
     "output_type": "execute_result"
    }
   ],
   "source": [
    "np.sum(arr3,axis=2) #고정으로 생각(2축이 없어졌다고 생각)\n",
    "#np.sum(arr3,axis=1)\n",
    "#np.sum(arr3,axis=0)"
   ]
  },
  {
   "cell_type": "markdown",
   "id": "02a6c9eb-55e1-4f81-a902-80b494b5f176",
   "metadata": {},
   "source": [
    "\n",
    "<br>\n",
    "<br>\n",
    "<br>"
   ]
  },
  {
   "cell_type": "markdown",
   "id": "6b87aa3e-ecf2-428c-8836-de734f5f0b68",
   "metadata": {},
   "source": [
    "# 3 AI 를 위해 무엇을 공부해야하는가?"
   ]
  },
  {
   "cell_type": "markdown",
   "id": "2aa947e0-1aff-482a-9f6e-0a75dde07ec2",
   "metadata": {},
   "source": [
    "- kaggle\n",
    "- machinelearning 은 기초베이스\n",
    "- deeplearning"
   ]
  },
  {
   "cell_type": "markdown",
   "id": "cb41092e-e758-497a-b352-ddb218811350",
   "metadata": {},
   "source": [
    "# 저의 추천 방법\n",
    "\n",
    "- 1순위 데이콘 1~10 등 private 보고 익히기.\n",
    "\n",
    "`-` library 사용법 익히기\n",
    "\n",
    "- 2순위 kaggle 에 대회보고 코드 보기 (특히 beginner , Tutorial 위주)\n",
    "\n",
    "`-` \n",
    "\n",
    "- 3순위 고유분야 deeplearning 이나 machinelearning 의 이론책보고 전체적인 흐름과 맥락을 코드에 집어넣어서 이해를 바탕으로 코드 짜기."
   ]
  },
  {
   "cell_type": "code",
   "execution_count": 13,
   "id": "f9f9d5cf-57e0-47d5-8fdb-d9d867c569f1",
   "metadata": {
    "tags": []
   },
   "outputs": [],
   "source": [
    "# deeplearning 의 방법"
   ]
  },
  {
   "cell_type": "code",
   "execution_count": null,
   "id": "8d3cdf35-ac9d-47b4-8165-573116d3a74b",
   "metadata": {},
   "outputs": [],
   "source": [
    "import os\n",
    "import gc\n",
    "import numpy as np\n",
    "import pandas as pd\n",
    "import torch\n",
    "import torch.nn as nn\n",
    "import torch.nn.functional as F\n",
    "import torchvision\n",
    "\n",
    "from glob import glob\n",
    "from tqdm.auto import tqdm\n",
    "from sklearn.metrics import f1_score\n",
    "from sklearn.preprocessing import LabelEncoder\n",
    "from sklearn.model_selection import StratifiedKFold\n",
    "from torchvision.transforms import v2\n",
    "import albumentations as A\n",
    "import cv2\n",
    "from albumentations.pytorch import ToTensorV2\n",
    "\n",
    "from torch.utils.data import Dataset, DataLoader\n",
    "from transformers import Swinv2Model, ConvNextV2Model, AutoModel\n",
    "import timm\n",
    "from PIL import Image\n",
    "\n",
    "torch.set_float32_matmul_precision('high')  # or 'medium' | 'high'\n",
    "# os.environ['WANDB_API_KEY']='xxxxx'\n",
    "# os.environ['WANDB_MODE']='online'\n",
    "# os.environ['WANDB_PROJECT']='basslibrary240210'\n",
    "os.environ['WANDB_MODE']='offline'\n",
    "\n",
    "######## logger ########\n",
    "import sys, logging, IPython\n",
    "logger = logging.getLogger()\n",
    "logging.basicConfig( handlers=[ logging.StreamHandler(stream=sys.stdout), logging.handlers.RotatingFileHandler(filename='run.log', mode='a', maxBytes=512000, backupCount=4) ] )\n",
    "logging_fomatter = logging.Formatter( '%(asctime)s [%(levelname)-4.4s] %(message)s', datefmt='%m/%d %H:%M:%S' )\n",
    "_ = [ h.setFormatter(logging_fomatter) for h in logger.handlers ]\n",
    "logger.setLevel(logging.INFO)\n",
    "def showtraceback(self, *args, **kwargs):\n",
    "    logger.exception('-------Exception----------')\n",
    "IPython.core.interactiveshell.InteractiveShell.showtraceback = showtraceback"
   ]
  },
  {
   "cell_type": "code",
   "execution_count": null,
   "id": "8550c53e-3601-4927-af98-1c222de5343e",
   "metadata": {},
   "outputs": [],
   "source": [
    "CFG = {}\n",
    "CFG['SEED'] = 42\n",
    "CFG['N_SPLIT'] = 5\n",
    "CFG['LABEL_SMOOTHING'] = 0.05\n",
    "CFG['OPTIMIZER'] = 'AdamW'\n",
    "CFG['INTERPOLATION'] = 'robidouxsharp'\n",
    "CFG['PRECISION'] = '16'"
   ]
  },
  {
   "cell_type": "code",
   "execution_count": null,
   "id": "2fa743a1-03be-4a96-97b9-94c880ee344b",
   "metadata": {},
   "outputs": [],
   "source": [
    "CFG['MODEL_NAME'] = \"timm/deit3_large_patch16_224.fb_in22k_ft_in1k\"    ## 304MB\n",
    "CFG['IMG_SIZE'] = 224\n",
    "CFG['BATCH_SIZE'] = 48 ## 48//16G, 4//8G memory..\n",
    "CFG['LR'] = [ 0.25e-5 * np.sqrt(CFG['BATCH_SIZE']), 1e-7 ]\n",
    "# #----------------------------------\n",
    "\n",
    "######################################\n",
    "if 'IMG_TRAIN_SIZE' not in CFG:\n",
    "    CFG['IMG_TRAIN_SIZE'] = CFG['IMG_SIZE']\n",
    "logger.info(CFG)"
   ]
  },
  {
   "cell_type": "code",
   "execution_count": null,
   "id": "f0401e83-d0fc-4286-b840-5c69d1ad37d7",
   "metadata": {},
   "outputs": [],
   "source": [
    "assert torch.cuda.is_available()\n",
    "device = 'cuda' if torch.cuda.is_available() else 'cpu'\n",
    "torch.set_default_device(device)\n",
    "logger.info(device)"
   ]
  },
  {
   "cell_type": "code",
   "execution_count": null,
   "id": "3015fbe2-7b11-456a-939a-8dc4f7ab172c",
   "metadata": {},
   "outputs": [],
   "source": [
    "def seed_everything(seed):\n",
    "    logger.info(f'seed_everything : {seed}')\n",
    "\n",
    "    import random, os\n",
    "    import numpy as np\n",
    "    import torch\n",
    "    \n",
    "    random.seed(seed)\n",
    "    os.environ['PYTHONHASHSEED'] = str(seed)\n",
    "    np.random.seed(seed)\n",
    "    torch.manual_seed(seed)\n",
    "    torch.cuda.manual_seed(seed)\n",
    "    torch.backends.cudnn.deterministic = True\n",
    "    torch.backends.cudnn.benchmark = True\n",
    "\n",
    "seed_everything(CFG['SEED'])"
   ]
  },
  {
   "cell_type": "code",
   "execution_count": null,
   "id": "354fd49a-adbe-4418-b578-ed518de7779a",
   "metadata": {},
   "outputs": [],
   "source": [
    "class CustomDataset(Dataset):\n",
    "    def __init__(self, img_path_list, label_list, load_img_size, shuffle=False, transforms=None, interpolation='robidouxsharp' ):\n",
    "        self.df = pd.DataFrame({'img_path_list': img_path_list})\n",
    "        self.interpolation = interpolation\n",
    "        self.load_img_size = load_img_size\n",
    "        logger.info(f'load_img_size={load_img_size}')\n",
    "        if label_list is not None:\n",
    "            self.df['label_list'] = label_list\n",
    "        if shuffle:\n",
    "            self.df = self.df.sample(frac=1.0).reset_index(drop=True)\n",
    "        self.transforms = transforms\n",
    "\n",
    "    # numpy or PIL Image => PIL Image\n",
    "    def get_interpolated_image(self, img, new_image_size):\n",
    "        if self.interpolation == 'pil_lanczos':\n",
    "            if isinstance(img, np.ndarray ):\n",
    "                img = Image.fromarray(img)\n",
    "            return img.resize( (new_image_size, new_image_size), Image.LANCZOS )\n",
    "        elif self.interpolation == 'cv2_lanczos4':\n",
    "            if not isinstance(img, np.ndarray ):\n",
    "                img = np.array(img)\n",
    "            import cv2\n",
    "            img = cv2.cvtColor(img, cv2.COLOR_RGB2BGR)\n",
    "            img = cv2.resize(src, (new_image_size, new_image_size), interpolation=cv2.INTER_LANCZOS4) # 픽셀 크기 지정\n",
    "            img = cv2.cvtColor(np.array(img), cv2.COLOR_BGR2RGB)\n",
    "            return Image.fromarray(img)\n",
    "        else:\n",
    "            if not isinstance(img, np.ndarray ):\n",
    "                img = np.array(img)\n",
    "            from wand import image\n",
    "            with image.Image.from_array(img) as src:\n",
    "                src.resize( new_image_size, new_image_size, filter=self.interpolation )\n",
    "                return Image.fromarray(np.array(src))\n",
    "                \n",
    "    # path => PIL Image\n",
    "    def get_image_from_index(self, index, img_size ):\n",
    "        img_path = self.df.img_path_list[index]\n",
    "        fname = img_path.replace('./','').split('.')[0] + '.png'\n",
    "        full_fname = f'img_cached/{img_size}_{self.interpolation}/{fname}'\n",
    "        if os.path.exists(full_fname):\n",
    "            img = Image.open(full_fname)\n",
    "        else:            \n",
    "            fname_path = '/'.join(full_fname.split('/')[:-1])\n",
    "            os.makedirs(fname_path, exist_ok = True)\n",
    "            img = self.get_interpolated_image(Image.open(img_path), img_size )\n",
    "            img.save( full_fname )\n",
    "        return img\n",
    "    \n",
    "    def __getitem__(self, index):\n",
    "        image = self.get_image_from_index( index, self.load_img_size )\n",
    "        if self.transforms is not None:\n",
    "            image = self.transforms(image)\n",
    "        if 'label_list' in self.df.columns:\n",
    "            label = self.df.label_list[index]\n",
    "            return { 'pixel_values': image, 'label': label }\n",
    "        else:\n",
    "            return { 'pixel_values': image }\n",
    "    \n",
    "    def __len__(self):\n",
    "        return len(self.df)"
   ]
  },
  {
   "cell_type": "code",
   "execution_count": null,
   "id": "b54dfac5-9517-4502-9062-d8707c48ecb7",
   "metadata": {},
   "outputs": [],
   "source": [
    "## ref: https://github.com/katsura-jp/pytorch-cosine-annealing-with-warmup/blob/master/cosine_annealing_warmup/scheduler.py\n",
    "import math\n",
    "import torch\n",
    "from torch.optim.lr_scheduler import _LRScheduler\n",
    "\n",
    "class CosineAnnealingWarmupRestarts(_LRScheduler):\n",
    "    \"\"\"\n",
    "        optimizer (Optimizer): Wrapped optimizer.\n",
    "        first_cycle_steps (int): First cycle step size.\n",
    "        cycle_mult(float): Cycle steps magnification. Default: -1.\n",
    "        max_lr(float): First cycle's max learning rate. Default: 0.1.\n",
    "        min_lr(float): Min learning rate. Default: 0.001.\n",
    "        warmup_steps(int): Linear warmup step size. Default: 0.\n",
    "        gamma(float): Decrease rate of max learning rate by cycle. Default: 1.\n",
    "        last_epoch (int): The index of last epoch. Default: -1.\n",
    "    \"\"\"\n",
    "    \n",
    "    def __init__(self,\n",
    "                 optimizer : torch.optim.Optimizer,\n",
    "                 first_cycle_steps : int,\n",
    "                 cycle_mult : float = 1.,\n",
    "                 max_lr : float = 1e-5,\n",
    "                 min_lr : float = 1e-10,\n",
    "                 warmup_steps : int = 0,\n",
    "                 gamma : float = 1.,\n",
    "                 last_epoch : int = -1\n",
    "        ):\n",
    "        assert warmup_steps < first_cycle_steps\n",
    "        \n",
    "        self.first_cycle_steps = first_cycle_steps # first cycle step size\n",
    "        self.cycle_mult = cycle_mult # cycle steps magnification\n",
    "        self.base_max_lr = max_lr # first max learning rate\n",
    "        self.max_lr = max_lr # max learning rate in the current cycle\n",
    "        self.min_lr = min_lr # min learning rate\n",
    "        self.warmup_steps = warmup_steps # warmup step size\n",
    "        self.gamma = gamma # decrease rate of max learning rate by cycle\n",
    "        \n",
    "        self.cur_cycle_steps = first_cycle_steps # first cycle step size\n",
    "        self.cycle = 0 # cycle count\n",
    "        self.step_in_cycle = last_epoch # step size of the current cycle\n",
    "        \n",
    "        super(CosineAnnealingWarmupRestarts, self).__init__(optimizer, last_epoch)\n",
    "        \n",
    "        # set learning rate min_lr\n",
    "        self.init_lr()\n",
    "    \n",
    "    def init_lr(self):\n",
    "        self.base_lrs = []\n",
    "        for param_group in self.optimizer.param_groups:\n",
    "            param_group['lr'] = self.min_lr\n",
    "            self.base_lrs.append(self.min_lr)\n",
    "    \n",
    "    def get_lr(self):\n",
    "        if self.step_in_cycle == -1:\n",
    "            return self.base_lrs\n",
    "        elif self.step_in_cycle < self.warmup_steps:\n",
    "            return [(self.max_lr - base_lr)*self.step_in_cycle / self.warmup_steps + base_lr for base_lr in self.base_lrs]\n",
    "        else:\n",
    "            return [base_lr + (self.max_lr - base_lr) \\\n",
    "                    * (1 + math.cos(math.pi * (self.step_in_cycle-self.warmup_steps) \\\n",
    "                                    / (self.cur_cycle_steps - self.warmup_steps))) / 2\n",
    "                    for base_lr in self.base_lrs]\n",
    "\n",
    "    def step(self, epoch=None):\n",
    "        if epoch is None:\n",
    "            epoch = self.last_epoch + 1\n",
    "            self.step_in_cycle = self.step_in_cycle + 1\n",
    "            if self.step_in_cycle >= self.cur_cycle_steps:\n",
    "                self.cycle += 1\n",
    "                self.step_in_cycle = self.step_in_cycle - self.cur_cycle_steps\n",
    "                self.cur_cycle_steps = int((self.cur_cycle_steps - self.warmup_steps) * self.cycle_mult) + self.warmup_steps\n",
    "        else:\n",
    "            if epoch >= self.first_cycle_steps:\n",
    "                if self.cycle_mult == 1.:\n",
    "                    self.step_in_cycle = epoch % self.first_cycle_steps\n",
    "                    self.cycle = epoch // self.first_cycle_steps\n",
    "                else:\n",
    "                    n = int(math.log((epoch / self.first_cycle_steps * (self.cycle_mult - 1) + 1), self.cycle_mult))\n",
    "                    self.cycle = n\n",
    "                    self.step_in_cycle = epoch - int(self.first_cycle_steps * (self.cycle_mult ** n - 1) / (self.cycle_mult - 1))\n",
    "                    self.cur_cycle_steps = self.first_cycle_steps * self.cycle_mult ** (n)\n",
    "            else:\n",
    "                self.cur_cycle_steps = self.first_cycle_steps\n",
    "                self.step_in_cycle = epoch\n",
    "                \n",
    "        self.max_lr = self.base_max_lr * (self.gamma**self.cycle)\n",
    "        self.last_epoch = math.floor(epoch)\n",
    "        for param_group, lr in zip(self.optimizer.param_groups, self.get_lr()):\n",
    "            param_group['lr'] = lr"
   ]
  },
  {
   "cell_type": "code",
   "execution_count": null,
   "id": "26a909eb-3c41-42fb-bc47-200a6489cc70",
   "metadata": {},
   "outputs": [],
   "source": [
    "class CustomModel(nn.Module):\n",
    "    def __init__(self, model):\n",
    "        super(CustomModel, self).__init__()\n",
    "        self.model = model\n",
    "        self.clf = nn.LazyLinear(25)\n",
    "        \n",
    "    def forward(self, x):\n",
    "        x = self.model(x)\n",
    "        if not isinstance(x, torch.Tensor):\n",
    "            x = x.pooler_output\n",
    "        if self.clf:\n",
    "            x = self.clf(x)\n",
    "        return x"
   ]
  },
  {
   "cell_type": "code",
   "execution_count": null,
   "id": "26ab330e-6092-4411-a466-9435f20b37e6",
   "metadata": {},
   "outputs": [],
   "source": [
    "train_df = pd.read_csv('./train.csv')\n",
    "le = LabelEncoder()\n",
    "train_df['class'] = le.fit_transform(train_df['label'])"
   ]
  },
  {
   "cell_type": "code",
   "execution_count": null,
   "id": "37a6eb10-4f2f-4e9c-b9b4-e61a565d49b7",
   "metadata": {},
   "outputs": [],
   "source": [
    "if not len(train_df) == len(os.listdir('./train')):\n",
    "    raise ValueError()"
   ]
  },
  {
   "cell_type": "code",
   "execution_count": null,
   "id": "106cdd58-0117-43fc-a5ba-9448c76c6c3d",
   "metadata": {},
   "outputs": [],
   "source": [
    "skf = StratifiedKFold(n_splits=CFG['N_SPLIT'], random_state=CFG['SEED'], shuffle=True)"
   ]
  },
  {
   "cell_type": "code",
   "execution_count": null,
   "id": "2eae15a7-c53e-4668-ba4e-2d80abca73e0",
   "metadata": {},
   "outputs": [],
   "source": [
    "image_size = CFG['IMG_SIZE']\n",
    "\n",
    "train_transform_list = [\n",
    "    # v2.RandomHorizontalFlip(), ## eva모델등에서는 성능향상이 없음. 오히려 성능떨어짐.\n",
    "    v2.TrivialAugmentWide(interpolation=v2.InterpolationMode.BICUBIC), \n",
    "    v2.RandomErasing(),\n",
    "    v2.Resize(size=(image_size, image_size), interpolation=v2.InterpolationMode.LANCZOS, antialias=True),\n",
    "    v2.ToImage(), v2.ToDtype( torch.float32, scale=True),\n",
    "    v2.Normalize(mean=[0.485, 0.456, 0.406], std=[0.229, 0.224, 0.225]),\n",
    "]\n",
    "if CFG['IMG_SIZE'] == CFG['IMG_TRAIN_SIZE']:\n",
    "    train_transform_list = [ a for a in train_transform_list if not isinstance(a, v2.Resize) ]\n",
    "train_transform = v2.Compose(train_transform_list )\n",
    "test_transform = v2.Compose( [\n",
    "    v2.ToImage(), v2.ToDtype( torch.float32, scale=True),\n",
    "    v2.Normalize(mean=[0.485, 0.456, 0.406], std=[0.229, 0.224, 0.225]),\n",
    "])"
   ]
  },
  {
   "cell_type": "code",
   "execution_count": null,
   "id": "1a583fc9-b672-409a-a566-e36d5377c854",
   "metadata": {},
   "outputs": [],
   "source": [
    "from sklearn.utils.class_weight import compute_class_weight\n",
    "class_weight = torch.FloatTensor( compute_class_weight('balanced', classes=train_df.label.sort_values().unique(), y=train_df.label ) )\n",
    "\n",
    "def train(model, optimizer, train_loader, val_loader, scheduler, device, validation_steps = 0.25, logging_steps = 10, use_amp=True, filename=''):\n",
    "    logger.info(f'{use_amp=}')\n",
    "\n",
    "    model.to(device)\n",
    "    best_score = 0\n",
    "    best_loss  = 1000\n",
    "    best_model = None\n",
    "    MAX_PATIENCE = 5\n",
    "    best_patience = MAX_PATIENCE\n",
    "    loss_fn = nn.CrossEntropyLoss( weight=class_weight, label_smoothing=CFG['LABEL_SMOOTHING'], reduction='mean' ).to(device)\n",
    "    scaler = torch.cuda.amp.GradScaler(enabled=use_amp)\n",
    "    checkpoint_filenames = []\n",
    "\n",
    "    max_steps = len(train_loader)\n",
    "    if not isinstance(validation_steps, int):\n",
    "        validation_steps = int(max_steps * validation_steps)  ## 절사..\n",
    "    max_steps = (max_steps//validation_steps)*validation_steps\n",
    "    \n",
    "    # ema 모델은 모델의 weight 한벌을 가지고 있어, 메모리 사용량도 확인해야 함..\n",
    "    ema_model = None  ## 의미가 없을 듯..\n",
    "    ema_decay = np.power(np.e, np.log(0.5)/(validation_steps*MAX_PATIENCE))\n",
    "    ema_model = torch.optim.swa_utils.AveragedModel(model, multi_avg_fn=torch.optim.swa_utils.get_ema_multi_avg_fn(ema_decay))\n",
    "                         \n",
    "    for epoch in range(1, 1000):\n",
    "        model.train()\n",
    "        train_loss = []\n",
    "        pbar_postfix = {}\n",
    "\n",
    "        pbar = tqdm(train_loader, desc=f'Epoch {epoch}')\n",
    "        for i, batch in enumerate(pbar):\n",
    "            if i >= max_steps:\n",
    "                continue\n",
    "            steps = i+1\n",
    "            \n",
    "            if use_amp:\n",
    "                with torch.autocast(device_type=device, dtype=torch.float16, enabled=use_amp):\n",
    "                    output = model(batch['pixel_values'])\n",
    "                    loss = loss_fn(output, batch['label'])\n",
    "                scaler.scale(loss).backward()\n",
    "\n",
    "                scaler.unscale_(optimizer)\n",
    "                torch.nn.utils.clip_grad_norm_(model.parameters(), max_norm=0.1)\n",
    "                \n",
    "                scaler.step(optimizer)\n",
    "                scaler.update()\n",
    "                optimizer.zero_grad()\n",
    "            else:\n",
    "                output = model(batch['pixel_values'])\n",
    "                loss = loss_fn(output, batch['label'])\n",
    "                loss.backward()\n",
    "                optimizer.step()\n",
    "                optimizer.zero_grad()\n",
    "            \n",
    "            if scheduler is not None:\n",
    "                scheduler.step()\n",
    "            \n",
    "            train_loss.append(loss.item())\n",
    "            loss = None\n",
    "            output = None\n",
    "            batch = None\n",
    "            \n",
    "            if ema_model is not None:\n",
    "                ema_model.update_parameters(model)\n",
    "            \n",
    "\n",
    "            if steps % logging_steps == 0:\n",
    "                pbar_postfix.update({\n",
    "                    't_loss0': train_loss[-1], \n",
    "                    'lr': optimizer.param_groups[0][\"lr\"]\n",
    "                } )\n",
    "                pbar.set_postfix( pbar_postfix )\n",
    "                run.log({\n",
    "                    \"epoch\": epoch, \n",
    "                    \"step\": steps,\n",
    "                    \"train\":{\"loss\": train_loss[-1]}, \n",
    "                    \"lr\": optimizer.param_groups[0][\"lr\"]\n",
    "                }, step=(epoch-1)*max_steps+steps)\n",
    "                \n",
    "            if steps % validation_steps == 0:\n",
    "                _val_loss, _val_score = validation(model, loss_fn, val_loader, device, use_amp)\n",
    "                _train_loss = np.mean(train_loss)\n",
    "                \n",
    "                best_score_mark = '*' if best_score < _val_score else ' '\n",
    "                best_loss_mark = '*' if best_loss > _val_loss else ' '\n",
    "                pbar_postfix.update({\n",
    "                    'lr': optimizer.param_groups[0][\"lr\"], \n",
    "                    't_loss': _train_loss,\n",
    "                    'v_loss': _val_loss, \n",
    "                    'v_f1': _val_score \n",
    "                })\n",
    "                pbar.set_postfix( pbar_postfix )\n",
    "                logger.info(f'eps={epoch:d}, lr={optimizer.param_groups[0][\"lr\"]:.3g}, t_loss={_train_loss:.4f}, v_loss={_val_loss:.4f}{best_loss_mark}, v_f1={_val_score:.4f}{best_score_mark}')\n",
    "                run.log({\n",
    "                    \"epoch\": epoch, \"step\": steps,\n",
    "                    \"train\":{\"avg_loss\": _train_loss}, \n",
    "                    \"valid\": { \"loss\": _val_loss, \"score\": _val_score},\n",
    "                    \"lr\": optimizer.param_groups[0][\"lr\"] \n",
    "                }, step=(epoch-1)*max_steps+steps)\n",
    "                \n",
    "                if best_score < _val_score:\n",
    "                    best_score = _val_score\n",
    "                    best_model = model\n",
    "                    best_patience = MAX_PATIENCE\n",
    "                    ## saving..\n",
    "                    if filename is not None and len(filename) != 0:\n",
    "                        checkpoint_filenames.append(\n",
    "                            filename.format(epoch=epoch, val_loss=_val_loss, val_score=_val_score) + '.ckpt' )\n",
    "                        if best_score > 0.9750:\n",
    "                            os.makedirs(os.path.dirname(checkpoint_filenames[-1]), exist_ok=True)\n",
    "                            torch.save( {\"model\": model.state_dict() }, checkpoint_filenames[-1] )\n",
    "                            logger.info( f'{checkpoint_filenames[-1]} : saved.' )\n",
    "                            _ = [ os.path.exists(fname) and os.remove(fname) for fname in checkpoint_filenames[:-1] ]\n",
    "                            checkpoint_filenames = checkpoint_filenames[-1:]\n",
    "                    \n",
    "                    ## 추가적으로 비교함..\n",
    "                    if best_loss > _val_loss:\n",
    "                        best_loss = _val_loss\n",
    "                elif best_loss > _val_loss:\n",
    "                    best_loss = _val_loss\n",
    "                    best_patience = MAX_PATIENCE\n",
    "                elif best_patience > 0:\n",
    "                    best_patience -= 1\n",
    "                else:\n",
    "                    logger.info(f'NO_MORE_TRAINING, {best_score=:.4f}')\n",
    "                    if ema_model is not None:\n",
    "                        # ## EMA --------------------\n",
    "                        torch.optim.swa_utils.update_bn(train_loader, ema_model, device )\n",
    "                        ema_val_loss, ema_val_score = validation(ema_model, loss_fn, val_loader, device, use_amp)\n",
    "                        logger.info(f'EMA ::: ema_v_loss={ema_val_loss:.4f}, ema_v_f1={ema_val_score:.4f}')\n",
    "                        run.log({'ema_v_loss': ema_val_loss, 'ema_v_f1': ema_val_score })\n",
    "                        \n",
    "                        save_filename = filename.format(epoch=epoch, val_loss=ema_val_loss, val_score=ema_val_score) + '-ema.ckpt'\n",
    "                        torch.save( {\"model\": ema_model.state_dict() }, save_filename )\n",
    "                        logger.info( f'{save_filename} : (ema) saved.' )\n",
    "                        # ##========================\n",
    "                    if not os.path.exists(checkpoint_filenames[-1]):\n",
    "                        os.makedirs(os.path.dirname(checkpoint_filenames[-1]), exist_ok=True)\n",
    "                        torch.save( {\"model\": best_model.state_dict() }, checkpoint_filenames[-1] )\n",
    "                        logger.info( f'{checkpoint_filenames[-1]} : saved.' )\n",
    "                        _ = [ os.path.exists(fname) and os.remove(fname) for fname in checkpoint_filenames[:-1] ]\n",
    "                        checkpoint_filenames = checkpoint_filenames[-1:]\n",
    "                    return best_model"
   ]
  },
  {
   "cell_type": "code",
   "execution_count": null,
   "id": "2fe09ef2-e1e2-4b15-bbc0-95caf92c97cd",
   "metadata": {},
   "outputs": [],
   "source": [
    "def validation(model, loss_fn, val_loader, device, use_amp):\n",
    "    model = model.to(device)\n",
    "    save_training = model.training\n",
    "    model.eval()\n",
    "    \n",
    "    val_loss = []\n",
    "    preds, true_labels = [], []\n",
    "\n",
    "    with torch.no_grad():\n",
    "        for batch in tqdm(val_loader):\n",
    "            true_labels += batch['label'].detach().cpu().numpy().tolist()\n",
    "            with torch.autocast(device_type=device, dtype=torch.float16, enabled=use_amp):\n",
    "                pred = model(batch['pixel_values'])\n",
    "                loss = loss_fn(pred, batch['label'])\n",
    "            preds += pred.detach().argmax(1).cpu().numpy().tolist()\n",
    "            val_loss.append(loss.item())\n",
    "        \n",
    "        _val_loss = np.mean(val_loss)\n",
    "        _val_score = f1_score(true_labels, preds, average='macro')\n",
    "    ## return_to_train..\n",
    "    if save_training:\n",
    "        model.train()\n",
    "    return _val_loss, _val_score"
   ]
  },
  {
   "cell_type": "code",
   "execution_count": null,
   "id": "8592f5c8-6f09-4e67-a7de-838f24d3584e",
   "metadata": {},
   "outputs": [],
   "source": [
    "def prediction(model, test_loader, device):\n",
    "    model = model.to(device)\n",
    "    save_training = model.training\n",
    "    model.eval()\n",
    "    preds = []\n",
    "\n",
    "    with torch.no_grad():\n",
    "        for batch in tqdm(test_loader):\n",
    "            pixel_values = batch['pixel_values'].to(device)            \n",
    "            pred = model(pixel_values)  ## F.softmax(output) ## 의미는 없을 듯.\n",
    "            preds += pred.detach().cpu().numpy().tolist()\n",
    "    if save_training:\n",
    "        model.train()\n",
    "    return preds"
   ]
  },
  {
   "cell_type": "code",
   "execution_count": null,
   "id": "65ba763c-38db-451b-92b3-977ff42a9cd8",
   "metadata": {},
   "outputs": [],
   "source": [
    "def create_model(model_name):\n",
    "    import timm\n",
    "    from transformers import AutoModel, AutoModelForImageClassification, AutoConfig\n",
    "\n",
    "    logger.info(f'create_model: {model_name}')\n",
    "    if '/' not in model_name:\n",
    "        model_name = 'timm/' + model_name\n",
    "        \n",
    "    if model_name.startswith('./'):\n",
    "        import nextvit\n",
    "        model = CustomModel( timm.create_model('nextvit_large', pretrained=True, checkpoint_path=model_name) )\n",
    "    elif model_name.startswith('facebook/hiera_'):\n",
    "        from hiera import Hiera  ## pip install hiera-transformer\n",
    "        model = CustomModel( Hiera.from_pretrained(model_name) )\n",
    "    elif model_name.startswith('timm/'):\n",
    "        model = CustomModel( timm.create_model( model_name, pretrained=True ) )\n",
    "    else:\n",
    "        model = CustomModel( AutoModel.from_pretrained(model_name) )\n",
    "    model.eval()\n",
    "    model( torch.rand((1,3,CFG['IMG_SIZE'],CFG['IMG_SIZE'])).type(torch.float32) ) ## initalize_lazyLinear..\n",
    "    return model"
   ]
  },
  {
   "cell_type": "code",
   "execution_count": null,
   "id": "84a47075-cf76-4499-bcd2-51208b8cc72f",
   "metadata": {},
   "outputs": [],
   "source": [
    "from datetime import datetime\n",
    "dt_str = datetime.now().strftime('%m%d%H%M')\n",
    "\n",
    "for fold_idx, (train_index, val_index) in enumerate(skf.split(train_df, train_df['class'])):\n",
    "    gc.collect()\n",
    "    torch.cuda.empty_cache()\n",
    "    \n",
    "    logger.info(f'{fold_idx=} started')\n",
    "    import wandb\n",
    "    run = wandb.init(\n",
    "        name=f'fold{fold_idx+1}_{CFG[\"MODEL_NAME\"].split(\"/\")[1].split(\"-\")[0]}_{dt_str}',\n",
    "        config=CFG,\n",
    "        reinit=True)\n",
    "    \n",
    "    train_fold_df = train_df.loc[train_index,:]\n",
    "    val_fold_df = train_df.loc[val_index,:]\n",
    "\n",
    "    train_dataset = CustomDataset( \n",
    "        train_fold_df['img_path'].values, train_fold_df['class'].values, \n",
    "        interpolation=CFG['INTERPOLATION'], load_img_size=CFG['IMG_TRAIN_SIZE'],\n",
    "        shuffle=True, transforms=train_transform)\n",
    "    train_loader = DataLoader(train_dataset, batch_size = CFG['BATCH_SIZE'], shuffle=True, generator=torch.Generator(device=device), num_workers=0)\n",
    "    val_dataset = CustomDataset(\n",
    "        val_fold_df['img_path'].values,\n",
    "        val_fold_df['class'].values,\n",
    "        interpolation=CFG['INTERPOLATION'], load_img_size=CFG['IMG_SIZE'],\n",
    "        shuffle=False, transforms=test_transform)\n",
    "    val_loader = DataLoader(val_dataset, batch_size=CFG['BATCH_SIZE']*2, shuffle=False, generator=torch.Generator(device=device), num_workers=0)\n",
    "\n",
    "    model = create_model(CFG['MODEL_NAME'])\n",
    "    \n",
    "    ## wrapp model\n",
    "    optimizer = torch.optim.AdamW(\n",
    "        model.parameters(),\n",
    "        lr=CFG['LR'][0],\n",
    "        weight_decay=0.001,  ## default는 0.01이며, 논문은 0.001임.\n",
    "    )\n",
    "    scheduler = None\n",
    "    scheduler = CosineAnnealingWarmupRestarts(\n",
    "        optimizer,\n",
    "        first_cycle_steps=int( len(train_loader) ) // 4,\n",
    "        cycle_mult=1.0, max_lr=CFG['LR'][0] * 2, \n",
    "        min_lr=CFG['LR'][1],\n",
    "        warmup_steps=0, \n",
    "        gamma=0.93,  ## 2024.05.02\n",
    "    )\n",
    "    \n",
    "    model = train( \n",
    "        model, optimizer, train_loader, val_loader, scheduler, device,\n",
    "        use_amp=(CFG['PRECISION'] == '16'),\n",
    "        filename = f'./ckpt/{CFG[\"MODEL_NAME\"].split(\"/\")[1].split(\"-\")[0]}-fold_idx={fold_idx}-' + 'epoch={epoch:02d}-val_loss={val_loss:.4f}-val_score={val_score:.4f}',\n",
    "    )\n",
    "    \n",
    "    model = None\n",
    "    gc.collect()\n",
    "    torch.cuda.empty_cache()\n",
    "    logger.info(f'{fold_idx=} finished')\n",
    "    run.finish()\n",
    "    \n",
    "    try:\n",
    "        # !python ~/send_telegram.py 'fold_idx={fold_idx} finished'\n",
    "        last_chpt_info = !ls -t ./ckpt/ | head -n1\n",
    "        last_chpt_info = ','.join( last_chpt_info[0][:-5].split('-')[1:] )\n",
    "        !python ~/send_telegram.py {last_chpt_info}\n",
    "    except:\n",
    "        pass"
   ]
  },
  {
   "cell_type": "code",
   "execution_count": 14,
   "id": "26b430a3-38f4-4ada-b4a7-026fad3c8f6e",
   "metadata": {
    "tags": []
   },
   "outputs": [],
   "source": [
    "# LTSF적용성공 예제"
   ]
  },
  {
   "attachments": {
    "40f42518-d0ed-4f8d-bbf5-1b4457ee8a5f.png": {
     "image/png": "[encoded data removed]"
    },
    "d0d0ca02-409c-44b9-ba57-bb73c76475c5.png": {
     "image/png": "[encoded data removed]"
    }
   },
   "cell_type": "markdown",
   "id": "f17fe56c-6c84-455b-99c4-18cc5e91d9fe",
   "metadata": {
    "tags": []
   },
   "source": [
    "# deeplearning 공부방법\n",
    "\n",
    "1. 책 읽기\n",
    "![image.png](attachment:d0d0ca02-409c-44b9-ba57-bb73c76475c5.png)\n",
    "\n",
    "![image.png](attachment:40f42518-d0ed-4f8d-bbf5-1b4457ee8a5f.png)\n",
    "\n",
    "\n",
    "deeplearningbook.org \n",
    "\n",
    "\n",
    "2. github 들어가기\n",
    "\n",
    "`-` 이론을 이제 알기시작하면 재밌어집니다.\n",
    "\n",
    "`-` https://github.com/osllogon/epf-transformers\n",
    "\n",
    "3. 이론공부랑 코드공부 병행하기\n",
    "\n",
    "- 이론 -> 이론에 대한 implement 해보기 -> kaggle 이나 dacon 에서 쓴 적있는지 확인해보기 -> pre-trained 모델이 있는지 확인해보기 -> 직접 사용하기\n"
   ]
  },
  {
   "cell_type": "code",
   "execution_count": 41,
   "id": "ffc8c0e0-3c3a-4474-81d4-e216be0abb01",
   "metadata": {},
   "outputs": [],
   "source": [
    "# 시간남으면 2024-audio-fake-detection-sample.ipynb 문제풀기 "
   ]
  },
  {
   "cell_type": "code",
   "execution_count": null,
   "id": "50aa725b-33a7-46fb-91af-5dc4e80242ef",
   "metadata": {},
   "outputs": [],
   "source": []
  }
 ],
 "metadata": {
  "kernelspec": {
   "display_name": "deep",
   "language": "python",
   "name": "deep"
  },
  "language_info": {
   "codemirror_mode": {
    "name": "ipython",
    "version": 3
   },
   "file_extension": ".py",
   "mimetype": "text/x-python",
   "name": "python",
   "nbconvert_exporter": "python",
   "pygments_lexer": "ipython3",
   "version": "3.10.14"
  }
 },
 "nbformat": 4,
 "nbformat_minor": 5
}
