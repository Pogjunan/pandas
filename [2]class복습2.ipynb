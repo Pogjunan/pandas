{
 "cells": [
  {
   "cell_type": "markdown",
   "id": "7510d9f5-c87b-4a48-9222-b6e5c99351e8",
   "metadata": {},
   "source": [
    "# 클래스의 정의[2] 메소드와 self 의미"
   ]
  },
  {
   "cell_type": "markdown",
   "id": "1cc48504-f655-4fd2-9469-df2e2087e03e",
   "metadata": {},
   "source": [
    "`-` 이전에는 show 라는 함수를 따로 만들었다.\n",
    "<br>\n",
    "- 이번에는 class 내에 show 라는 함수도 포함시키겠다."
   ]
  },
  {
   "cell_type": "markdown",
   "id": "6c92bd1b-5a11-4b90-bb52-877d0f1f80e4",
   "metadata": {},
   "source": [
    "`-` class 의 활용"
   ]
  },
  {
   "cell_type": "code",
   "execution_count": 1,
   "id": "90828f5b-e5a0-4965-be0f-acb5b4ee4d48",
   "metadata": {},
   "outputs": [],
   "source": [
    "from IPython.core.display import HTML"
   ]
  },
  {
   "cell_type": "markdown",
   "id": "9fcacf83-8fa1-4f80-9ef2-b87628f6a7cf",
   "metadata": {},
   "source": [
    "현재 `show(짱아)` ->`짱아.show` 로 바꾸고싶다."
   ]
  },
  {
   "cell_type": "code",
   "execution_count": 4,
   "id": "cbfb3f06-5bd6-4dd6-8305-04216a1aeef5",
   "metadata": {},
   "outputs": [
    {
     "ename": "SyntaxError",
     "evalue": "invalid syntax (684946884.py, line 1)",
     "output_type": "error",
     "traceback": [
      "\u001b[0;36m  Cell \u001b[0;32mIn[4], line 1\u001b[0;36m\u001b[0m\n\u001b[0;31m    def 짱아.show(짱아):\u001b[0m\n\u001b[0m          ^\u001b[0m\n\u001b[0;31mSyntaxError\u001b[0m\u001b[0;31m:\u001b[0m invalid syntax\n"
     ]
    }
   ],
   "source": [
    "def 짱아.show(짱아):\n",
    "    _str = 짱아.html_str.format(\n",
    "        ttl = 짱아.title,\n",
    "        url = 짱아.imgurl,\n",
    "        T = 짱아.txt\n",
    "        hl = 짱아.highlight\n",
    "    )\n",
    "    display(HTML(_str))"
   ]
  },
  {
   "cell_type": "markdown",
   "id": "4d302ba5-2dd8-438d-9c27-6321455ff1e8",
   "metadata": {},
   "source": [
    "## 위는 **실패**"
   ]
  },
  {
   "cell_type": "code",
   "execution_count": 7,
   "id": "8479bba2-6ac7-4c77-b554-9a31c46e1fd0",
   "metadata": {},
   "outputs": [],
   "source": [
    "class 짱구:\n",
    "    def show(self):\n",
    "        _str = self.html_str.format(\n",
    "            ttl = self.title,\n",
    "            url = self.imgurl,\n",
    "            t = self.txt,\n",
    "            hl = self.highlight\n",
    "        )\n",
    "        display(HTML(_str))\n",
    "# show함수를 그대로 넣고 pp2023을 self로 바꿈 "
   ]
  },
  {
   "cell_type": "markdown",
   "id": "a3c7f259-1c2f-4408-8bf6-d107377a6179",
   "metadata": {},
   "source": [
    "이렇게는 **성공**"
   ]
  },
  {
   "cell_type": "markdown",
   "id": "aad10b42-3df8-4296-a050-80eed9a32f24",
   "metadata": {},
   "source": [
    "# 결론\n",
    "- self 라는 함수를 class 내부에 함수로써 defination 하면 show 함수를 사용할 수 있게 만들어준다."
   ]
  },
  {
   "cell_type": "markdown",
   "id": "8ab71751-d4ad-4a90-833f-6c368ca0b761",
   "metadata": {},
   "source": [
    ">"
   ]
  },
  {
   "cell_type": "markdown",
   "id": "d234813c-87d9-49a6-bd59-30e45b93b43a",
   "metadata": {},
   "source": [
    "# `self` 에 대해서 배우기.\n",
    "`self` 는 현재 잠옷짱구,맹구,짱아 에 대응된다. <br>\n",
    "`self` 는 `짱구` 클래스에서 생성할 이름을 대신한다. <br>\n",
    "ex) 맹구는 짱구에서 만든 instance(예시)이고 self 로 쓸 수 있다.  "
   ]
  },
  {
   "cell_type": "markdown",
   "id": "fbf07d41-fb4f-4be5-8ea1-924b7bcf8650",
   "metadata": {},
   "source": [
    "# `self` 를 쓰는 가장 큰 이유\n",
    "`self` 를 통해서 아직 정해져있지않은 인스턴스를 미리 제시하고 넘어가는 효과."
   ]
  },
  {
   "cell_type": "code",
   "execution_count": 8,
   "id": "9d8cd544-6395-45d1-876f-bee7e706d656",
   "metadata": {},
   "outputs": [],
   "source": [
    "class pythonprogramming:\n",
    "    def show(self):\n",
    "        _str = self.html_str.format(\n",
    "            ttl = self.title,\n",
    "            url = self.imgurl,\n",
    "            Q = self.ques,\n",
    "            A = self.ans,\n",
    "            hl = self.highlight\n",
    "        )\n",
    "        display(HTML(_str))\n",
    "\n",
    "pp = pythonprogramming()\n",
    "\n",
    "#이렇게 사용하면 pp 가 지정된다."
   ]
  },
  {
   "cell_type": "code",
   "execution_count": 9,
   "id": "7e4d21a1-1427-4148-999c-21e9bc324646",
   "metadata": {},
   "outputs": [],
   "source": [
    "pp.title = '파이썬 프로그래밍 중간고사 패배는 괜찮다.'\n",
    "pp.imgurl = 'https://github.com/guebin/PP2023/blob/main/posts/03_Class/PP2023mid.jpg?raw=true?'\n",
    "pp.ques = \"Q: 파이썬 프로그래밍 기말고사, 어떤 점에 유의해야 할까?\"\n",
    "pp.ans = \"A: 최규빈 교수 문제 스타일에 대해서 더 분석할 건 없는 것 같고, 내가 내 코드를 잘 구현하는 게 제일 중요한 것 같고 중간고사는 망하긴 했지만 제 스스로 안 무너지면 충분히 기말고사는 잘 볼 수 있을 것 같아요.\"\n",
    "pp.highlight = '마음'\n",
    "pp.html_str =\\\n",
    "'''\n",
    "<style>\n",
    "    .title {{\n",
    "        font-family: \"Times New Roman\", serif;\n",
    "        font-size: 30px;\n",
    "        font-weight: 900;\n",
    "    }}\n",
    "    .text {{\n",
    "        font-family: \"Arial\", sans-serif;\n",
    "        font-size: 20px;\n",
    "        font-style: italic;\n",
    "    }}\n",
    "    .highlight {{\n",
    "        font-family: \"Montserrat\", monospace;\n",
    "        font-size: 35px;\n",
    "        font-weight: 900;\n",
    "        text-decoration: underline;\n",
    "        font-style: normal;\n",
    "        color: darkblue;\n",
    "        background-color: #FFFF00;\n",
    "    }}\n",
    "</style>\n",
    "<p class=\"title\">{ttl}</p>\n",
    "<img src={url} width=\"600\">\n",
    "<p> \\n </p>\n",
    "<p class=\"text\">{Q}</p>\n",
    "<p class=\"text\">{A}</p>\n",
    "<p class=\"title\">중요한 것은 꺾이지 않는 <span class=\"highlight\">{hl}</span></p>\n",
    "'''"
   ]
  },
  {
   "cell_type": "code",
   "execution_count": 11,
   "id": "c7c7cbad-b837-4f43-ada0-4d0b0bb10147",
   "metadata": {},
   "outputs": [
    {
     "data": {
      "text/html": [
       "\n",
       "<style>\n",
       "    .title {\n",
       "        font-family: \"Times New Roman\", serif;\n",
       "        font-size: 30px;\n",
       "        font-weight: 900;\n",
       "    }\n",
       "    .text {\n",
       "        font-family: \"Arial\", sans-serif;\n",
       "        font-size: 20px;\n",
       "        font-style: italic;\n",
       "    }\n",
       "    .highlight {\n",
       "        font-family: \"Montserrat\", monospace;\n",
       "        font-size: 35px;\n",
       "        font-weight: 900;\n",
       "        text-decoration: underline;\n",
       "        font-style: normal;\n",
       "        color: darkblue;\n",
       "        background-color: #FFFF00;\n",
       "    }\n",
       "</style>\n",
       "<p class=\"title\">파이썬 프로그래밍 중간고사 패배는 괜찮다.</p>\n",
       "<img src=https://github.com/guebin/PP2023/blob/main/posts/03_Class/PP2023mid.jpg?raw=true? width=\"600\">\n",
       "<p> \n",
       " </p>\n",
       "<p class=\"text\">Q: 파이썬 프로그래밍 기말고사, 어떤 점에 유의해야 할까?</p>\n",
       "<p class=\"text\">A: 최규빈 교수 문제 스타일에 대해서 더 분석할 건 없는 것 같고, 내가 내 코드를 잘 구현하는 게 제일 중요한 것 같고 중간고사는 망하긴 했지만 제 스스로 안 무너지면 충분히 기말고사는 잘 볼 수 있을 것 같아요.</p>\n",
       "<p class=\"title\">중요한 것은 꺾이지 않는 <span class=\"highlight\">마음</span></p>\n"
      ],
      "text/plain": [
       "<IPython.core.display.HTML object>"
      ]
     },
     "metadata": {},
     "output_type": "display_data"
    }
   ],
   "source": [
    "pp.show()"
   ]
  },
  {
   "cell_type": "code",
   "execution_count": null,
   "id": "2d00e4da-b0b6-48b5-8b20-4b7a1af383ea",
   "metadata": {},
   "outputs": [],
   "source": []
  }
 ],
 "metadata": {
  "kernelspec": {
   "display_name": "deep",
   "language": "python",
   "name": "deep"
  },
  "language_info": {
   "codemirror_mode": {
    "name": "ipython",
    "version": 3
   },
   "file_extension": ".py",
   "mimetype": "text/x-python",
   "name": "python",
   "nbconvert_exporter": "python",
   "pygments_lexer": "ipython3",
   "version": "3.10.13"
  }
 },
 "nbformat": 4,
 "nbformat_minor": 5
}
