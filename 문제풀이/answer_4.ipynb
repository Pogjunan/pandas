{
 "cells": [
  {
   "cell_type": "markdown",
   "metadata": {},
   "source": [
    "# 기초반 4차시 Test"
   ]
  },
  {
   "cell_type": "markdown",
   "metadata": {},
   "source": [
    "## [보기]"
   ]
  },
  {
   "cell_type": "markdown",
   "metadata": {},
   "source": [
    "스타크래프트는 한국의 민속놀이다. 그동안 배운 것을 통해 스타크래프트를 구현해보자."
   ]
  },
  {
   "cell_type": "markdown",
   "metadata": {},
   "source": [
    "## 문제"
   ]
  },
  {
   "cell_type": "markdown",
   "metadata": {},
   "source": [
    "### 1. 일꾼 만들기"
   ]
  },
  {
   "cell_type": "markdown",
   "metadata": {},
   "source": [
    "스타크래프트의 모든 유닛은 공격을 한다.  \n",
    "일꾼은 미네랄을 캐거나, 건물을 짓는다.  \n",
    "미네랄을 캐면 8의 미네랄이 들어온다.  \n",
    "이 정보들을 메서드로 가지는 Worker 클래스와 Unit 클래스를 선언하고 상속관계를 선언하시오."
   ]
  },
  {
   "cell_type": "code",
   "execution_count": 17,
   "metadata": {},
   "outputs": [],
   "source": [
    "class Unit:\n",
    "    def attack():\n",
    "        pass"
   ]
  },
  {
   "cell_type": "code",
   "execution_count": 18,
   "metadata": {},
   "outputs": [],
   "source": [
    "class Worker(Unit):\n",
    "    def mine_mineral(self):\n",
    "        return 8\n",
    "    def construct_building(self):\n",
    "        pass\n",
    "    def attack(self):\n",
    "        super().attack()"
   ]
  },
  {
   "cell_type": "markdown",
   "metadata": {},
   "source": [
    "### 2. 건물 만들기"
   ]
  },
  {
   "cell_type": "markdown",
   "metadata": {},
   "source": [
    "스타크래프트의 모든 건물은 미네랄 비용을 가진다.  \n",
    "메인 건물은 400의 비용을 소모한다.  \n",
    "인구 건물은 100의 비용을 소모하지만 유닛 제한을 8개 늘려준다.  \n",
    "이 정보들을 가지는 Building 클래스, CommandCenter 클래스, Supply 클래스를 선언하시오."
   ]
  },
  {
   "cell_type": "code",
   "execution_count": 19,
   "metadata": {},
   "outputs": [],
   "source": [
    "class Building:\n",
    "    def build():\n",
    "        pass"
   ]
  },
  {
   "cell_type": "code",
   "execution_count": 20,
   "metadata": {},
   "outputs": [],
   "source": [
    "class CommandCenter(Building):\n",
    "    def build(self):\n",
    "        return -400\n",
    "    def train_worker(self):\n",
    "        return -50, Worker()\n",
    "    \n",
    "class Supply(Building):\n",
    "    def build(self):\n",
    "        return -100, 8"
   ]
  },
  {
   "cell_type": "markdown",
   "metadata": {},
   "source": [
    "### 3. 플레이어 정보 만들기"
   ]
  },
  {
   "cell_type": "markdown",
   "metadata": {},
   "source": [
    "스타크래프트의 플레이어는 기본적으로 미네랄, 8개의 유닛 제한, 유닛들, 건물들을 정보로 가져야한다.  \n",
    "이 정보들을 속성으로 가지는 Player 클래스를 선언하시오."
   ]
  },
  {
   "cell_type": "code",
   "execution_count": 21,
   "metadata": {},
   "outputs": [],
   "source": [
    "class Player:\n",
    "    def __init__(self, minerals, units, buildings):\n",
    "        self.minerals = minerals\n",
    "        self.supply = 8\n",
    "        self.units = units\n",
    "        self.buildings = buildings"
   ]
  },
  {
   "cell_type": "markdown",
   "metadata": {},
   "source": [
    "임요환과 홍진호, 두 사람 모두에게 미네랄 50과 일꾼 유닛 4개, 메인 건물 1개가 기본적으로 주어진다.  \n",
    "이를 정의하시오."
   ]
  },
  {
   "cell_type": "code",
   "execution_count": 22,
   "metadata": {},
   "outputs": [],
   "source": [
    "lim = Player(50, [Worker(), Worker(), Worker(), Worker()], [CommandCenter()])\n",
    "hong = Player(50, [Worker(), Worker(), Worker(), Worker()], [CommandCenter()])"
   ]
  },
  {
   "cell_type": "markdown",
   "metadata": {},
   "source": [
    "### 4. 게임하기"
   ]
  },
  {
   "cell_type": "markdown",
   "metadata": {},
   "source": [
    "홍진호는 메인 건물에서 새로운 일꾼을 1개 생산한다.  \n",
    "이를 구현하시오."
   ]
  },
  {
   "cell_type": "code",
   "execution_count": 23,
   "metadata": {},
   "outputs": [
    {
     "name": "stdout",
     "output_type": "stream",
     "text": [
      "0\n",
      "[<__main__.Worker object at 0x00000107A05EA3B0>, <__main__.Worker object at 0x000001079F455D20>, <__main__.Worker object at 0x000001079F455D50>, <__main__.Worker object at 0x000001079F456830>, <__main__.Worker object at 0x000001079F455D80>]\n"
     ]
    }
   ],
   "source": [
    "consumed_minerals, new_worker = hong.buildings[0].train_worker()\n",
    "hong.minerals += consumed_minerals\n",
    "hong.units.append(new_worker)"
   ]
  },
  {
   "cell_type": "markdown",
   "metadata": {},
   "source": [
    "임요환은 모든 일꾼들이 한 번씩 미네랄을 채취한다.  \n",
    "이를 선언하시오."
   ]
  },
  {
   "cell_type": "code",
   "execution_count": 24,
   "metadata": {},
   "outputs": [
    {
     "name": "stdout",
     "output_type": "stream",
     "text": [
      "82\n"
     ]
    }
   ],
   "source": [
    "for worker in lim.units:\n",
    "    if isinstance(worker, Worker):\n",
    "        lim.minerals += worker.mine_mineral()"
   ]
  }
 ],
 "metadata": {
  "kernelspec": {
   "display_name": "Python 3",
   "language": "python",
   "name": "python3"
  },
  "language_info": {
   "codemirror_mode": {
    "name": "ipython",
    "version": 3
   },
   "file_extension": ".py",
   "mimetype": "text/x-python",
   "name": "python",
   "nbconvert_exporter": "python",
   "pygments_lexer": "ipython3",
   "version": "3.10.9"
  }
 },
 "nbformat": 4,
 "nbformat_minor": 2
}
